{
 "cells": [
  {
   "cell_type": "code",
   "execution_count": 9,
   "metadata": {
    "collapsed": false
   },
   "outputs": [],
   "source": [
    "%matplotlib inline\n",
    "import numpy as np\n",
    "from matplotlib import pyplot as plt\n",
    "from topoflow.components import snow_degree_day "
   ]
  },
  {
   "cell_type": "code",
   "execution_count": 10,
   "metadata": {
    "collapsed": true
   },
   "outputs": [],
   "source": [
    "cfg_file='topoflow/examples/Treynor_Iowa/June_20_67_snow_degree_day.cfg'\n",
    "m=snow_degree_day.snow_component()"
   ]
  },
  {
   "cell_type": "code",
   "execution_count": 11,
   "metadata": {
    "collapsed": false
   },
   "outputs": [
    {
     "name": "stdout",
     "output_type": "stream",
     "text": [
      " \n",
      "Snow component: Initializing...\n",
      "Imported netCDF4 version: 1.1.9\n"
     ]
    },
    {
     "data": {
      "text/plain": [
       "array(0.0)"
      ]
     },
     "execution_count": 11,
     "metadata": {},
     "output_type": "execute_result"
    }
   ],
   "source": [
    "m.P_snow=0.02\n",
    "m.rho_H2O=1000 # density of water kg/m3\n",
    "m.T_air=10\n",
    "m.initialize(cfg_file);"
   ]
  },
  {
   "cell_type": "code",
   "execution_count": 12,
   "metadata": {
    "collapsed": false
   },
   "outputs": [
    {
     "name": "stdout",
     "output_type": "stream",
     "text": [
      "[array(0.0)] 0.0 36000.0\n",
      "0.0 36000.0\n",
      "3600.0 36000.0\n",
      "7200.0 36000.0\n",
      "10800.0 36000.0\n",
      "14400.0 36000.0\n",
      "18000.0 36000.0\n",
      "21600.0 36000.0\n",
      "25200.0 36000.0\n",
      "28800.0 36000.0\n",
      "32400.0 36000.0\n",
      "(11,) (11,) (11,) (11,)\n"
     ]
    }
   ],
   "source": [
    "time = [m.get_current_time().copy()]\n",
    "# NOTE: EMELI does not have get_value\n",
    "vol_SM = [m.get_values('snowpack__domain_time_integral_of_melt_volume_flux').copy()]\n",
    "h_snow = [m.get_values('snowpack__depth').copy()] \n",
    "h_swe = [m.get_values('snowpack__liquid-equivalent_depth').copy()]\n",
    "SM = [m.get_values('snowpack__melt_volume_flux').copy()]\n",
    "rho_snow = [m.get_values('snowpack__z_mean_of_mass-per-volume_density').copy()]\n",
    "\n",
    "print vol_SM, m.get_current_time(), m.get_end_time()\n",
    "while m.get_current_time() < m.get_end_time():\n",
    "    print m.get_current_time(), m.get_end_time()\n",
    "    m.update()\n",
    "    time.append(m.get_current_time().copy())\n",
    "    vol_SM.append(m.vol_SM.copy() )\n",
    "    h_snow.append(m.h_snow.copy() )\n",
    "    h_swe.append(m.h_swe.copy() )\n",
    "    SM.append(m.SM.copy() )\n",
    "    rho_snow.append(m.rho_snow.copy() )\n",
    "    \n",
    "print np.shape(vol_SM), np.shape(h_snow), np.shape(h_swe), np.shape(SM)"
   ]
  },
  {
   "cell_type": "code",
   "execution_count": 19,
   "metadata": {
    "collapsed": false
   },
   "outputs": [
    {
     "data": {
      "image/png": "[encoded data removed]",
      "text/plain": [
       "<matplotlib.figure.Figure at 0x108ddf410>"
      ]
     },
     "metadata": {},
     "output_type": "display_data"
    }
   ],
   "source": [
    "plt.subplot(211)\n",
    "plt.plot(time,vol_SM,'b',time,h_snow,'r'); \n",
    "plt.ylabel('Snow melt (m s-1) and snow depth (m)')\n",
    "plt.grid();\n",
    "plt.subplot(212)\n",
    "plt.plot(time,SM); \n",
    "plt.xlabel('Time (s)')\n",
    "plt.ylabel('Snow melt vol flux (m s-1)')\n",
    "plt.grid(); plt.show()"
   ]
  },
  {
   "cell_type": "code",
   "execution_count": 10,
   "metadata": {
    "collapsed": false
   },
   "outputs": [
    {
     "data": {
      "text/plain": [
       "[array(240.49617500000002),\n",
       " array(480.49235000000004),\n",
       " array(720.488525),\n",
       " array(960.4847),\n",
       " array(1200.480875),\n",
       " array(1440.47705),\n",
       " array(1680.473225),\n",
       " array(1920.4694),\n",
       " array(2160.465575),\n",
       " array(2400.46175)]"
      ]
     },
     "execution_count": 10,
     "metadata": {},
     "output_type": "execute_result"
    }
   ],
   "source": [
    "h_snow"
   ]
  },
  {
   "cell_type": "code",
   "execution_count": null,
   "metadata": {
    "collapsed": true
   },
   "outputs": [],
   "source": []
  }
 ],
 "metadata": {
  "kernelspec": {
   "display_name": "Python 2",
   "language": "python",
   "name": "python2"
  },
  "language_info": {
   "codemirror_mode": {
    "name": "ipython",
    "version": 2
   },
   "file_extension": ".py",
   "mimetype": "text/x-python",
   "name": "python",
   "nbconvert_exporter": "python",
   "pygments_lexer": "ipython2",
   "version": "2.7.10"
  }
 },
 "nbformat": 4,
 "nbformat_minor": 0
}
