{
 "cells": [
  {
   "cell_type": "code",
   "execution_count": 7,
   "metadata": {
    "collapsed": false
   },
   "outputs": [],
   "source": [
    "%matplotlib inline\n",
    "import numpy as np\n",
    "from matplotlib import pyplot as plt\n",
    "from topoflow.components import met_base"
   ]
  },
  {
   "cell_type": "code",
   "execution_count": 8,
   "metadata": {
    "collapsed": false
   },
   "outputs": [],
   "source": [
    "cfg_file='topoflow/examples/Treynor_Iowa/June_20_67_meteorology.cfg'\n",
    "m=met_base.met_component()"
   ]
  },
  {
   "cell_type": "code",
   "execution_count": 9,
   "metadata": {
    "collapsed": false
   },
   "outputs": [
    {
     "name": "stdout",
     "output_type": "stream",
     "text": [
      " \n",
      "Meteorology component: Initializing...\n",
      "Scalar rainrate set to: 5.55555555556e-05  [mmph]\n",
      "SORRY: Cannot yet create lon and lat grids for\n",
      "       this DEM because it uses UTM coordinates.\n",
      "       Will use lat/lon for Denver, Colorado.\n",
      " \n",
      "Imported netCDF4 version: 1.1.9\n"
     ]
    }
   ],
   "source": [
    "m.initialize(cfg_file);\n",
    "# NOTE met_base will initialize , but not update without h_snow (snow_component)\n",
    "m.h_snow=0.5"
   ]
  },
  {
   "cell_type": "code",
   "execution_count": 10,
   "metadata": {
    "collapsed": false
   },
   "outputs": [
    {
     "name": "stdout",
     "output_type": "stream",
     "text": [
      "0.0 600.0\n",
      "60.0 600.0\n",
      "120.0 600.0\n",
      "180.0 600.0\n",
      "240.0 600.0\n",
      "300.0 600.0\n",
      "360.0 600.0\n",
      "420.0 600.0\n",
      "480.0 600.0\n",
      "540.0 600.0\n",
      "(11,) (11,) (11,)\n",
      "(11,) (11, 44, 29) (11, 44, 29)\n"
     ]
    }
   ],
   "source": [
    "time = [m.get_current_time().copy()]\n",
    "# NOTE: EMELI does not have get_value\n",
    "T_air = [m.get_values('atmosphere_bottom_air__temperature').copy()]\n",
    "p0 = [m.get_values('atmosphere_bottom_air__pressure').copy()] \n",
    "Qn_LW = [m.get_values('land_surface_net-longwave-radiation__energy_flux').copy()]\n",
    "Qn_SW = [m.get_values('land_surface_net-shortwave-radiation__energy_flux').copy()]\n",
    "Q_sum = [m.get_values('land_surface_net-total-energy__energy_flux').copy()]\n",
    "\n",
    "while m.get_current_time() < m.get_end_time():\n",
    "    print m.get_current_time(), m.get_end_time()\n",
    "    m.update()\n",
    "    time.append(m.get_current_time().copy())\n",
    "    T_air.append(m.T_air.copy() )\n",
    "    p0.append(m.p0.copy() )\n",
    "    Qn_LW.append(m.Qn_LW.copy() )\n",
    "    Qn_SW.append(m.Qn_SW.copy() )\n",
    "    Q_sum.append(m.Q_sum.copy() )\n",
    "    \n",
    "print np.shape(time), np.shape(T_air),np.shape(p0)\n",
    "print np.shape(Qn_LW), np.shape(Qn_SW), np.shape(Q_sum)"
   ]
  },
  {
   "cell_type": "code",
   "execution_count": 15,
   "metadata": {
    "collapsed": false
   },
   "outputs": [
    {
     "data": {
      "image/png": "[encoded data removed]",
      "text/plain": [
       "<matplotlib.figure.Figure at 0x108a1f1d0>"
      ]
     },
     "metadata": {},
     "output_type": "display_data"
    }
   ],
   "source": [
    "plt.plot(time,T_air,'b'); \n",
    "plt.xlabel('Time (s)')\n",
    "plt.ylabel('Snow melt')\n",
    "plt.title('Snow Melt rate vs. time')\n",
    "plt.grid(); plt.show()"
   ]
  }
 ],
 "metadata": {
  "kernelspec": {
   "display_name": "Python 2",
   "language": "python",
   "name": "python2"
  },
  "language_info": {
   "codemirror_mode": {
    "name": "ipython",
    "version": 2
   },
   "file_extension": ".py",
   "mimetype": "text/x-python",
   "name": "python",
   "nbconvert_exporter": "python",
   "pygments_lexer": "ipython2",
   "version": "2.7.10"
  }
 },
 "nbformat": 4,
 "nbformat_minor": 0
}
