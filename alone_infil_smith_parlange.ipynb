{
 "cells": [
  {
   "cell_type": "code",
   "execution_count": 1,
   "metadata": {
    "collapsed": false
   },
   "outputs": [
    {
     "name": "stdout",
     "output_type": "stream",
     "text": [
      "Importing TopoFlow packages:\n",
      "   topoflow.utils\n",
      "   topoflow.utils.tests\n",
      "   topoflow.components\n",
      "   topoflow.components.tests\n",
      "   topoflow.framework\n",
      "   topoflow.framework.tests\n",
      "   topoflow.gui (unfinished)\n",
      " \n",
      " \n",
      "Paths for this package:\n",
      "framework_dir = /Users/elja0262/Google Drive/active_projects/Topoflow_all/topoflow/topoflow/framework/\n",
      "parent_dir    = /Users/elja0262/Google Drive/active_projects/Topoflow_all/topoflow/topoflow/\n",
      "examples_dir  = /Users/elja0262/Google Drive/active_projects/Topoflow_all/topoflow/topoflow/examples/\n",
      "__file__      = topoflow/framework/emeli.pyc\n",
      "__name__      = topoflow.framework.emeli\n",
      " \n"
     ]
    }
   ],
   "source": [
    "%matplotlib inline\n",
    "import numpy as np\n",
    "from matplotlib import pyplot as plt\n",
    "from topoflow.components import infil_smith_parlange"
   ]
  },
  {
   "cell_type": "code",
   "execution_count": 2,
   "metadata": {
    "collapsed": false
   },
   "outputs": [],
   "source": [
    "cfg_file='topoflow/examples/Treynor_Iowa/June_20_67_infil_smith_parlange.cfg'\n",
    "m=infil_smith_parlange.infil_component()"
   ]
  },
  {
   "cell_type": "code",
   "execution_count": 5,
   "metadata": {
    "collapsed": false
   },
   "outputs": [
    {
     "name": "stdout",
     "output_type": "stream",
     "text": [
      " \n",
      "Infiltration component: Initializing...\n",
      "Imported netCDF4 version: 1.1.9\n"
     ]
    },
    {
     "data": {
      "text/plain": [
       "array(0.0)"
      ]
     },
     "execution_count": 5,
     "metadata": {},
     "output_type": "execute_result"
    }
   ],
   "source": [
    "# similar to green_ampt componetn\n",
    "# will not run without these\n",
    "m.P_rain=100.5\n",
    "m.SM=1000\n",
    "m.h_table=1\n",
    "# need these for update to work\n",
    "m.elev=0.0\n",
    "m.initialize(cfg_file);\n",
    "m.get_current_time()\n"
   ]
  },
  {
   "cell_type": "code",
   "execution_count": 6,
   "metadata": {
    "collapsed": false
   },
   "outputs": [
    {
     "name": "stdout",
     "output_type": "stream",
     "text": [
      "0.0 600.0\n",
      "60.0 600.0\n",
      "120.0 600.0\n",
      "180.0 600.0\n",
      "240.0 600.0\n",
      "300.0 600.0\n",
      "360.0 600.0\n",
      "420.0 600.0\n",
      "480.0 600.0\n",
      "540.0 600.0\n"
     ]
    },
    {
     "data": {
      "text/plain": [
       "((11, 44, 29), (11, 44, 29), (11,))"
      ]
     },
     "execution_count": 6,
     "metadata": {},
     "output_type": "execute_result"
    }
   ],
   "source": [
    "time = [m.get_current_time().copy()]\n",
    "# NOTE: EMELI does not have get_value\n",
    "I = [m.get_values('soil_surface_water__time_integral_of_infiltration_volume_flux').copy()]\n",
    "#This parapemter does not work (TypeError: data type \"unknown\" not understood)\n",
    "#fc = [m.get_values('soil_water__potential_infiltration_volume_flux').copy()] \n",
    "vol_Rg = [m.get_values('soil_water_sat-zone_top__domain_time_integral_of_recharge_volume_flux').copy()]\n",
    "Rg = [m.get_values('soil_water_sat-zone_top__recharge_volume_flux').copy()]\n",
    "#Q_sum = [m.get_values('land_surface_net-total-energy__energy_flux').copy()]\n",
    "\n",
    "while m.get_current_time() < m.get_end_time():\n",
    "    print m.get_current_time(), m.get_end_time()\n",
    "    m.update()\n",
    "    time.append(m.get_current_time().copy())\n",
    "    I.append(m.get_values('soil_surface_water__time_integral_of_infiltration_volume_flux').copy())\n",
    "    #fc.append = [m.get_values('soil_water__potential_infiltration_volume_flux').copy()] \n",
    "    vol_Rg.append(m.get_values('soil_water_sat-zone_top__domain_time_integral_of_recharge_volume_flux').copy())\n",
    "    Rg.append(m.get_values('soil_water_sat-zone_top__recharge_volume_flux').copy())    \n",
    "\n",
    "np.shape(I), np.shape(Rg), np.shape(vol_Rg)"
   ]
  },
  {
   "cell_type": "code",
   "execution_count": 12,
   "metadata": {
    "collapsed": false
   },
   "outputs": [
    {
     "data": {
      "image/png": "[encoded data removed]",
      "text/plain": [
       "<matplotlib.figure.Figure at 0x10899a790>"
      ]
     },
     "metadata": {},
     "output_type": "display_data"
    }
   ],
   "source": [
    "plt.plot(time,vol_Rg,'b'); \n",
    "plt.xlabel('Time (s)')\n",
    "plt.ylabel('recharge_volume_flux')\n",
    "#plt.title('Snow Melt rate vs. time')\n",
    "plt.grid(); plt.show()"
   ]
  },
  {
   "cell_type": "code",
   "execution_count": null,
   "metadata": {
    "collapsed": true
   },
   "outputs": [],
   "source": []
  }
 ],
 "metadata": {
  "kernelspec": {
   "display_name": "Python 2",
   "language": "python",
   "name": "python2"
  },
  "language_info": {
   "codemirror_mode": {
    "name": "ipython",
    "version": 2
   },
   "file_extension": ".py",
   "mimetype": "text/x-python",
   "name": "python",
   "nbconvert_exporter": "python",
   "pygments_lexer": "ipython2",
   "version": "2.7.10"
  }
 },
 "nbformat": 4,
 "nbformat_minor": 0
}
