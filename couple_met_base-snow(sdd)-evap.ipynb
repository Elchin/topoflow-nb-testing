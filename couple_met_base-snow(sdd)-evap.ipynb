{
 "cells": [
  {
   "cell_type": "code",
   "execution_count": 2,
   "metadata": {
    "collapsed": false
   },
   "outputs": [],
   "source": [
    "%matplotlib inline\n",
    "import numpy as np\n",
    "from matplotlib import pyplot as plt\n",
    "from topoflow.components import met_base, snow_degree_day, evap_priestley_taylor"
   ]
  },
  {
   "cell_type": "code",
   "execution_count": 3,
   "metadata": {
    "collapsed": true
   },
   "outputs": [],
   "source": [
    "met, sno = met_base.met_component(), snow_degree_day.snow_component()\n",
    "evap=evap_priestley_taylor.evap_component()"
   ]
  },
  {
   "cell_type": "code",
   "execution_count": 4,
   "metadata": {
    "collapsed": true
   },
   "outputs": [],
   "source": [
    "cfg_file_met='topoflow/examples/Treynor_Iowa/June_20_67_meteorology.cfg'\n",
    "cfg_file_sno='topoflow/examples/Treynor_Iowa/June_20_67_snow_degree_day.cfg'\n",
    "cfg_file_eva='topoflow/examples/Treynor_Iowa/June_20_67_evap_priestley_taylor.cfg'"
   ]
  },
  {
   "cell_type": "code",
   "execution_count": 11,
   "metadata": {
    "collapsed": false
   },
   "outputs": [
    {
     "name": "stdout",
     "output_type": "stream",
     "text": [
      " \n",
      "Meteorology component: Initializing...\n",
      "Scalar rainrate set to: 5.55555555556e-05  [mmph]\n",
      "SORRY: Cannot yet create lon and lat grids for\n",
      "       this DEM because it uses UTM coordinates.\n",
      "       Will use lat/lon for Denver, Colorado.\n",
      " \n",
      "Imported netCDF4 version: 1.1.9\n",
      " \n",
      "Snow component: Initializing...\n",
      "Imported netCDF4 version: 1.1.9\n",
      " \n",
      "Evaporation component: Initializing...\n",
      "Imported netCDF4 version: 1.1.9\n"
     ]
    }
   ],
   "source": [
    "met.initialize(cfg_file_met);\n",
    "\n",
    "sno.P_snow=met.get_values('atmosphere_water__snowfall_leq-volume_flux')\n",
    "sno.rho_H2O=met.get_values('water-liquid__mass-per-volume_density')\n",
    "sno.T_air=met.get_values('atmosphere_bottom_air__temperature')\n",
    "\n",
    "sno.initialize(cfg_file_sno);\n",
    "\n",
    "evap.Qn_SW=met.get_values('land_surface_net-shortwave-radiation__energy_flux')\n",
    "evap.Qn_LW=met.get_values('land_surface_net-longwave-radiation__energy_flux')\n",
    "evap.T_air=met.get_values('atmosphere_bottom_air__temperature')\n",
    "evap.T_surf=met.get_values('land_surface__temperature')\n",
    "\n",
    "evap.initialize(cfg_file_eva);"
   ]
  },
  {
   "cell_type": "code",
   "execution_count": 9,
   "metadata": {
    "collapsed": false
   },
   "outputs": [
    {
     "name": "stdout",
     "output_type": "stream",
     "text": [
      "t_met_end= 600.0\n",
      "t_sn_end= 36000.0\n",
      "t_eva_end= 36000.0\n",
      "met_t= 60.0 , sno_t= 3600.0 eva_t= 3600.0\n",
      "met_t= 120.0 , sno_t= 7200.0 eva_t= 7200.0\n",
      "met_t= 180.0 , sno_t= 10800.0 eva_t= 10800.0\n",
      "met_t= 240.0 , sno_t= 14400.0 eva_t= 14400.0\n",
      "met_t= 300.0 , sno_t= 18000.0 eva_t= 18000.0\n",
      "met_t= 360.0 , sno_t= 21600.0 eva_t= 21600.0\n",
      "met_t= 420.0 , sno_t= 25200.0 eva_t= 25200.0\n",
      "met_t= 480.0 , sno_t= 28800.0 eva_t= 28800.0\n",
      "met_t= 540.0 , sno_t= 32400.0 eva_t= 32400.0\n",
      "(10,) (10,) (10, 44, 29)\n"
     ]
    }
   ],
   "source": [
    "time_met = [met.get_current_time().copy()]\n",
    "time_sno = [sno.get_current_time().copy()]\n",
    "time_eva = [evap.get_current_time().copy()]\n",
    "# NOTE: EMELI does not have get_value\n",
    "h_snow = [sno.get_values('snowpack__depth').copy()] \n",
    "Q_sum = [met.get_values('land_surface_net-total-energy__energy_flux').copy()]\n",
    "T_surf = [met.get_values('land_surface__temperature').copy()]\n",
    "\n",
    "Qc=[0.0]\n",
    "vol_ET=[evap.vol_ET.copy()]  #'m3' 'land_surface_water__domain_time_integral_of_evaporation_volume_flux'\n",
    "ET=[evap.ET.copy()]  #'m s-1' 'land_surface_water__evaporation_volume_flux' \n",
    "\n",
    "print 't_met_end=', met.get_end_time()\n",
    "print 't_sn_end=', sno.get_end_time()\n",
    "print 't_eva_end=', evap.get_end_time()\n",
    "while met.get_current_time() < met.get_end_time():\n",
    "    print 'met_t=',met.get_current_time(), ', sno_t=',sno.get_current_time(), 'eva_t=',evap.get_current_time()\n",
    "    \n",
    "    # set req. parameters -> update -> save cur time\n",
    "    met.h_snow=sno.get_values('snowpack__depth')\n",
    "    met.update()\n",
    "    time_met.append(met.get_current_time().copy())\n",
    "    T_surf.append(met.T_surf.copy() )\n",
    "    Q_sum.append(met.Q_sum.copy() )\n",
    "\n",
    "    sno.P_snow=met.get_values('atmosphere_water__snowfall_leq-volume_flux')\n",
    "    sno.rho_H2O=met.get_values('water-liquid__mass-per-volume_density')\n",
    "    sno.T_air=met.get_values('atmosphere_bottom_air__temperature')\n",
    "    sno.update()\n",
    "    h_snow.append(sno.h_snow.copy() )\n",
    "    time_sno.append(sno.get_current_time().copy())\n",
    "\n",
    "    evap.update()\n",
    "    time_eva.append(evap.get_current_time().copy())\n",
    "    Qc.append(evap.Qc.copy()) \n",
    "    vol_ET.append(evap.vol_ET.copy()) \n",
    "    ET.append(evap.ET.copy())  \n",
    "    \n",
    "print np.shape(h_snow), np.shape(T_surf), np.shape(Q_sum)"
   ]
  },
  {
   "cell_type": "code",
   "execution_count": 10,
   "metadata": {
    "collapsed": false
   },
   "outputs": [
    {
     "data": {
      "image/png": "[encoded data removed]",
      "text/plain": [
       "<matplotlib.figure.Figure at 0x10893aed0>"
      ]
     },
     "metadata": {},
     "output_type": "display_data"
    }
   ],
   "source": [
    "plt.subplot(211)\n",
    "plt.plot(time_sno,h_snow,'b', time_sno,h_snow,'b'); \n",
    "plt.xlabel('Time (s)')\n",
    "plt.ylabel('Snow depth (m)')\n",
    "plt.grid();\n",
    "plt.subplot(212)\n",
    "plt.plot(time_met,T_surf,'r'); \n",
    "plt.xlabel('Time (s)')\n",
    "plt.ylabel('T_surf (C)')\n",
    "plt.grid(); plt.show()"
   ]
  },
  {
   "cell_type": "code",
   "execution_count": null,
   "metadata": {
    "collapsed": true
   },
   "outputs": [],
   "source": []
  }
 ],
 "metadata": {
  "kernelspec": {
   "display_name": "Python 2",
   "language": "python",
   "name": "python2"
  },
  "language_info": {
   "codemirror_mode": {
    "name": "ipython",
    "version": 2
   },
   "file_extension": ".py",
   "mimetype": "text/x-python",
   "name": "python",
   "nbconvert_exporter": "python",
   "pygments_lexer": "ipython2",
   "version": "2.7.10"
  }
 },
 "nbformat": 4,
 "nbformat_minor": 0
}
