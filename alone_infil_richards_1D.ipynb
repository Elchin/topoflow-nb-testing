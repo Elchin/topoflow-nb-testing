{
 "cells": [
  {
   "cell_type": "code",
   "execution_count": 27,
   "metadata": {
    "collapsed": false
   },
   "outputs": [],
   "source": [
    "%matplotlib inline\n",
    "import numpy as np\n",
    "from matplotlib import pyplot as plt\n",
    "from topoflow.components import infil_richards_1D"
   ]
  },
  {
   "cell_type": "code",
   "execution_count": 28,
   "metadata": {
    "collapsed": false
   },
   "outputs": [],
   "source": [
    "cfg_file='topoflow/examples/Treynor_Iowa/June_20_67_infil_richards_1d.cfg'\n",
    "m=infil_richards_1D.infil_component()"
   ]
  },
  {
   "cell_type": "code",
   "execution_count": 29,
   "metadata": {
    "collapsed": false
   },
   "outputs": [
    {
     "name": "stdout",
     "output_type": "stream",
     "text": [
      " \n",
      "Infiltration component: Initializing...\n",
      "=====================================================\n",
      "Suggested initial values for layer 1 :\n",
      "   For theta_r = 0.081525\n",
      "   theta_i = 0.375807613989    vs. 0.375808\n",
      "   K_i     = 9.84970140132e-08 vs. 9.85e-08\n",
      "   theta_H = 0.212084935691   vs. 0.081525  (theta_r)\n",
      " \n",
      "Suggested initial values for layer 2 :\n",
      "   For theta_r = 0.071217\n",
      "   theta_i = 0.328763873192    vs. 0.328764\n",
      "   K_i     = 3.2929661833e-08 vs. 3.29e-08\n",
      "   theta_H = 0.185430150315   vs. 0.071217  (theta_r)\n",
      " \n",
      "Suggested initial values for layer 3 :\n",
      "   For theta_r = 0.152958\n",
      "   theta_i = 0.412771750084    vs. 0.4128\n",
      "   K_i     = 3.11491725259e-08 vs. 3.11e-08\n",
      "   theta_H = 0.308981598549   vs. 0.152958  (theta_r)\n",
      " \n",
      "===========================================================\n",
      "Imported netCDF4 version: 1.1.9\n"
     ]
    },
    {
     "data": {
      "text/plain": [
       "array(0.0)"
      ]
     },
     "execution_count": 29,
     "metadata": {},
     "output_type": "execute_result"
    }
   ],
   "source": [
    "# similar to green_ampt componetn\n",
    "# will not run without these\n",
    "m.P_rain=100.5\n",
    "m.SM=1000\n",
    "m.h_table=1\n",
    "# reques more input than other two infil methods\n",
    "m.n_layers=3\n",
    "m.save_grid_dt=60\n",
    "m.dt=60\n",
    "m.save_pixels_dt=60\n",
    "m.save_profile_dt=60\n",
    "m.save_cube_dt=60\n",
    "m.ET=100\n",
    "# need these for update to work\n",
    "m.elev=0.0\n",
    "m.initialize(cfg_file);\n",
    "m.get_current_time()\n"
   ]
  },
  {
   "cell_type": "code",
   "execution_count": 30,
   "metadata": {
    "collapsed": false
   },
   "outputs": [
    {
     "name": "stdout",
     "output_type": "stream",
     "text": [
      "0.0 60.0\n",
      "##############################################\n",
      "ERROR:  Aborting model run.\n",
      "        NaNs found in infiltration rates.\n",
      "        Number of NaN values = 1\n",
      "##############################################\n",
      " \n",
      "6.0 60.0\n",
      "##############################################\n",
      "ERROR:  Aborting model run.\n",
      "        NaNs found in infiltration rates.\n",
      "        Number of NaN values = 1\n",
      "##############################################\n",
      " \n",
      "12.0 60.0\n",
      "##############################################\n",
      "ERROR:  Aborting model run.\n",
      "        NaNs found in infiltration rates.\n",
      "        Number of NaN values = 1\n",
      "##############################################\n",
      " \n",
      "18.0 60.0\n",
      "##############################################\n",
      "ERROR:  Aborting model run.\n",
      "        NaNs found in infiltration rates.\n",
      "        Number of NaN values = 1\n",
      "##############################################\n",
      " \n",
      "24.0 60.0\n",
      "##############################################\n",
      "ERROR:  Aborting model run.\n",
      "        NaNs found in infiltration rates.\n",
      "        Number of NaN values = 1\n",
      "##############################################\n",
      " \n",
      "30.0 60.0\n",
      "##############################################\n",
      "ERROR:  Aborting model run.\n",
      "        NaNs found in infiltration rates.\n",
      "        Number of NaN values = 1\n",
      "##############################################\n",
      " \n",
      "36.0 60.0\n",
      "##############################################\n",
      "ERROR:  Aborting model run.\n",
      "        NaNs found in infiltration rates.\n",
      "        Number of NaN values = 1\n",
      "##############################################\n",
      " \n",
      "42.0 60.0\n",
      "##############################################\n",
      "ERROR:  Aborting model run.\n",
      "        NaNs found in infiltration rates.\n",
      "        Number of NaN values = 1\n",
      "##############################################\n",
      " \n",
      "48.0 60.0\n",
      "##############################################\n",
      "ERROR:  Aborting model run.\n",
      "        NaNs found in infiltration rates.\n",
      "        Number of NaN values = 1\n",
      "##############################################\n",
      " \n",
      "54.0 60.0\n",
      "##############################################\n",
      "ERROR:  Aborting model run.\n",
      "        NaNs found in infiltration rates.\n",
      "        Number of NaN values = 1\n",
      "##############################################\n",
      " \n",
      "(11,) (11,) (11,)\n"
     ]
    }
   ],
   "source": [
    "time = [m.get_current_time().copy()]\n",
    "# NOTE: EMELI does not have get_value\n",
    "vol_IN = [m.get_values('soil_surface_water__domain_time_integral_of_infiltration_volume_flux').copy()]\n",
    "vol_Rg = [m.get_values('soil_water_sat-zone_top__domain_time_integral_of_recharge_volume_flux').copy()]\n",
    "Rg = [m.get_values('soil_water_sat-zone_top__recharge_volume_flux').copy()]\n",
    "\n",
    "while m.get_current_time() < m.get_end_time():\n",
    "    print m.get_current_time(), m.get_end_time()\n",
    "    m.update()\n",
    "    time.append(m.get_current_time().copy())\n",
    "    vol_IN.append(m.vol_IN.copy())\n",
    "    vol_Rg.append(m.vol_Rg.copy())\n",
    "    Rg.append(m.Rg.copy())    \n",
    "\n",
    "print np.shape(vol_IN), np.shape(Rg), np.shape(vol_Rg)"
   ]
  },
  {
   "cell_type": "code",
   "execution_count": 31,
   "metadata": {
    "collapsed": false
   },
   "outputs": [
    {
     "data": {
      "image/png": "[encoded data removed]",
      "text/plain": [
       "<matplotlib.figure.Figure at 0x108aaa750>"
      ]
     },
     "metadata": {},
     "output_type": "display_data"
    }
   ],
   "source": [
    "plt.plot(time,vol_Rg,'b'); \n",
    "plt.xlabel('Time (s)')\n",
    "plt.ylabel('recharge_volume_flux')\n",
    "#plt.title('Snow Melt rate vs. time')\n",
    "plt.grid(); plt.show()"
   ]
  },
  {
   "cell_type": "code",
   "execution_count": null,
   "metadata": {
    "collapsed": true
   },
   "outputs": [],
   "source": []
  }
 ],
 "metadata": {
  "kernelspec": {
   "display_name": "Python 2",
   "language": "python",
   "name": "python2"
  },
  "language_info": {
   "codemirror_mode": {
    "name": "ipython",
    "version": 2
   },
   "file_extension": ".py",
   "mimetype": "text/x-python",
   "name": "python",
   "nbconvert_exporter": "python",
   "pygments_lexer": "ipython2",
   "version": "2.7.10"
  }
 },
 "nbformat": 4,
 "nbformat_minor": 0
}
