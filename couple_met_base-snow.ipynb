{
 "cells": [
  {
   "cell_type": "code",
   "execution_count": 1,
   "metadata": {
    "collapsed": false
   },
   "outputs": [
    {
     "name": "stdout",
     "output_type": "stream",
     "text": [
      "Importing TopoFlow packages:\n",
      "   topoflow.utils\n",
      "   topoflow.utils.tests\n",
      "   topoflow.components\n",
      "   topoflow.components.tests\n",
      "   topoflow.framework\n",
      "   topoflow.framework.tests\n",
      "   topoflow.gui (unfinished)\n",
      " \n",
      " \n",
      "Paths for this package:\n",
      "framework_dir = /Users/elchin/Google Drive/active_projects/Topoflow_all/topoflow/topoflow/framework/\n",
      "parent_dir    = /Users/elchin/Google Drive/active_projects/Topoflow_all/topoflow/topoflow/\n",
      "examples_dir  = /Users/elchin/Google Drive/active_projects/Topoflow_all/topoflow/topoflow/examples/\n",
      "__file__      = topoflow/framework/emeli.pyc\n",
      "__name__      = topoflow.framework.emeli\n",
      " \n"
     ]
    }
   ],
   "source": [
    "%matplotlib inline\n",
    "import numpy as np\n",
    "from matplotlib import pyplot as plt\n",
    "from topoflow.components import met_base, snow_degree_day "
   ]
  },
  {
   "cell_type": "code",
   "execution_count": 2,
   "metadata": {
    "collapsed": true
   },
   "outputs": [],
   "source": [
    "met, sno = met_base.met_component(), snow_degree_day.snow_component()"
   ]
  },
  {
   "cell_type": "code",
   "execution_count": 3,
   "metadata": {
    "collapsed": true
   },
   "outputs": [],
   "source": [
    "cfg_file_met='topoflow/examples/Treynor_Iowa/June_20_67_meteorology.cfg'\n",
    "cfg_file_sno='topoflow/examples/Treynor_Iowa/June_20_67_snow_degree_day.cfg'"
   ]
  },
  {
   "cell_type": "code",
   "execution_count": 4,
   "metadata": {
    "collapsed": false
   },
   "outputs": [
    {
     "name": "stdout",
     "output_type": "stream",
     "text": [
      " \n",
      "Meteorology component: Initializing...\n",
      "Scalar rainrate set to: 5.55555555556e-05  [mmph]\n",
      "SORRY: Cannot yet create lon and lat grids for\n",
      "       this DEM because it uses UTM coordinates.\n",
      "       Will use lat/lon for Denver, Colorado.\n",
      " \n",
      "Imported netCDF4 version: 1.2.2\n"
     ]
    }
   ],
   "source": [
    "met.initialize(cfg_file_met);"
   ]
  },
  {
   "cell_type": "code",
   "execution_count": 5,
   "metadata": {
    "collapsed": false
   },
   "outputs": [
    {
     "name": "stdout",
     "output_type": "stream",
     "text": [
      "0.0\n",
      "1000.0\n",
      "20.0\n"
     ]
    }
   ],
   "source": [
    "print met.get_values('atmosphere_water__snowfall_leq-volume_flux')\n",
    "print met.get_values('water-liquid__mass-per-volume_density')\n",
    "print met.get_values('atmosphere_bottom_air__temperature')"
   ]
  },
  {
   "cell_type": "code",
   "execution_count": 6,
   "metadata": {
    "collapsed": false
   },
   "outputs": [
    {
     "name": "stdout",
     "output_type": "stream",
     "text": [
      " \n",
      "Snow component: Initializing...\n",
      "Imported netCDF4 version: 1.2.2\n"
     ]
    },
    {
     "name": "stderr",
     "output_type": "stream",
     "text": [
      "/Users/elchin/anaconda/lib/python2.7/site-packages/numpy/core/fromnumeric.py:2645: VisibleDeprecationWarning: `rank` is deprecated; use the `ndim` attribute or function instead. To find the rank of a matrix see `numpy.linalg.matrix_rank`.\n",
      "  VisibleDeprecationWarning)\n"
     ]
    }
   ],
   "source": [
    "sno.P_snow=met.get_values('atmosphere_water__snowfall_leq-volume_flux')\n",
    "sno.rho_H2O=met.get_values('water-liquid__mass-per-volume_density')\n",
    "sno.T_air=met.get_values('atmosphere_bottom_air__temperature')\n",
    "\n",
    "sno.initialize(cfg_file_sno);"
   ]
  },
  {
   "cell_type": "code",
   "execution_count": 7,
   "metadata": {
    "collapsed": false
   },
   "outputs": [
    {
     "name": "stdout",
     "output_type": "stream",
     "text": [
      "0.0 600.0\n",
      "0.0 36000.0\n",
      "0.492425\n",
      "0.48485\n",
      "0.477275\n",
      "0.4697\n",
      "0.462125\n",
      "0.45455\n",
      "0.446975\n",
      "0.4394\n",
      "0.431825\n",
      "0.42425\n",
      "[array(0.0), array(60.0), array(3600.0), array(120.0), array(7200.0), array(180.0), array(10800.0), array(240.0), array(14400.0), array(300.0), array(18000.0), array(360.0), array(21600.0), array(420.0), array(25200.0), array(480.0), array(28800.0), array(540.0), array(32400.0), array(600.0), array(36000.0)] [array([[ 0.,  0.,  0., ...,  0.,  0.,  0.],\n",
      "       [ 0.,  0.,  0., ...,  0.,  0.,  0.],\n",
      "       [ 0.,  0.,  0., ...,  0.,  0.,  0.],\n",
      "       ..., \n",
      "       [ 0.,  0.,  0., ...,  0.,  0.,  0.],\n",
      "       [ 0.,  0.,  0., ...,  0.,  0.,  0.],\n",
      "       [ 0.,  0.,  0., ...,  0.,  0.,  0.]]), array([[ 3214.75746689,  3214.75746689,  3214.75746689, ...,\n",
      "         3214.75746689,  3214.75746689,  3214.75746689],\n",
      "       [ 3214.75746689,  3214.75746689,  3214.75746689, ...,\n",
      "         3214.75746689,  3214.75746689,  3214.75746689],\n",
      "       [ 3214.75746689,  3214.75746689,  3214.75746689, ...,\n",
      "         3214.75746689,  3214.75746689,  3214.75746689],\n",
      "       ..., \n",
      "       [ 3214.75746689,  3214.75746689,  3214.75746689, ...,\n",
      "         3214.75746689,  3214.75746689,  3214.75746689],\n",
      "       [ 3214.75746689,  3214.75746689,  3214.75746689, ...,\n",
      "         3214.75746689,  3214.75746689,  3214.75746689],\n",
      "       [ 3214.75746689,  3214.75746689,  3214.75746689, ...,\n",
      "         3214.75746689,  3214.75746689,  3214.75746689]]), array([[ 3213.96709736,  3213.96709736,  3213.96709736, ...,\n",
      "         3213.96709736,  3213.96709736,  3213.96709736],\n",
      "       [ 3213.96709736,  3213.96709736,  3213.96709736, ...,\n",
      "         3213.96709736,  3213.96709736,  3213.96709736],\n",
      "       [ 3213.96709736,  3213.96709736,  3213.96709736, ...,\n",
      "         3213.96709736,  3213.96709736,  3213.96709736],\n",
      "       ..., \n",
      "       [ 3213.96709736,  3213.96709736,  3213.96709736, ...,\n",
      "         3213.96709736,  3213.96709736,  3213.96709736],\n",
      "       [ 3213.96709736,  3213.96709736,  3213.96709736, ...,\n",
      "         3213.96709736,  3213.96709736,  3213.96709736],\n",
      "       [ 3213.96709736,  3213.96709736,  3213.96709736, ...,\n",
      "         3213.96709736,  3213.96709736,  3213.96709736]]), array([[ 3213.17766346,  3213.17766346,  3213.17766346, ...,\n",
      "         3213.17766346,  3213.17766346,  3213.17766346],\n",
      "       [ 3213.17766346,  3213.17766346,  3213.17766346, ...,\n",
      "         3213.17766346,  3213.17766346,  3213.17766346],\n",
      "       [ 3213.17766346,  3213.17766346,  3213.17766346, ...,\n",
      "         3213.17766346,  3213.17766346,  3213.17766346],\n",
      "       ..., \n",
      "       [ 3213.17766346,  3213.17766346,  3213.17766346, ...,\n",
      "         3213.17766346,  3213.17766346,  3213.17766346],\n",
      "       [ 3213.17766346,  3213.17766346,  3213.17766346, ...,\n",
      "         3213.17766346,  3213.17766346,  3213.17766346],\n",
      "       [ 3213.17766346,  3213.17766346,  3213.17766346, ...,\n",
      "         3213.17766346,  3213.17766346,  3213.17766346]]), array([[ 3212.3891633,  3212.3891633,  3212.3891633, ...,  3212.3891633,\n",
      "         3212.3891633,  3212.3891633],\n",
      "       [ 3212.3891633,  3212.3891633,  3212.3891633, ...,  3212.3891633,\n",
      "         3212.3891633,  3212.3891633],\n",
      "       [ 3212.3891633,  3212.3891633,  3212.3891633, ...,  3212.3891633,\n",
      "         3212.3891633,  3212.3891633],\n",
      "       ..., \n",
      "       [ 3212.3891633,  3212.3891633,  3212.3891633, ...,  3212.3891633,\n",
      "         3212.3891633,  3212.3891633],\n",
      "       [ 3212.3891633,  3212.3891633,  3212.3891633, ...,  3212.3891633,\n",
      "         3212.3891633,  3212.3891633],\n",
      "       [ 3212.3891633,  3212.3891633,  3212.3891633, ...,  3212.3891633,\n",
      "         3212.3891633,  3212.3891633]]), array([[ 3211.601595,  3211.601595,  3211.601595, ...,  3211.601595,\n",
      "         3211.601595,  3211.601595],\n",
      "       [ 3211.601595,  3211.601595,  3211.601595, ...,  3211.601595,\n",
      "         3211.601595,  3211.601595],\n",
      "       [ 3211.601595,  3211.601595,  3211.601595, ...,  3211.601595,\n",
      "         3211.601595,  3211.601595],\n",
      "       ..., \n",
      "       [ 3211.601595,  3211.601595,  3211.601595, ...,  3211.601595,\n",
      "         3211.601595,  3211.601595],\n",
      "       [ 3211.601595,  3211.601595,  3211.601595, ...,  3211.601595,\n",
      "         3211.601595,  3211.601595],\n",
      "       [ 3211.601595,  3211.601595,  3211.601595, ...,  3211.601595,\n",
      "         3211.601595,  3211.601595]]), array([[ 3210.81495668,  3210.81495668,  3210.81495668, ...,\n",
      "         3210.81495668,  3210.81495668,  3210.81495668],\n",
      "       [ 3210.81495668,  3210.81495668,  3210.81495668, ...,\n",
      "         3210.81495668,  3210.81495668,  3210.81495668],\n",
      "       [ 3210.81495668,  3210.81495668,  3210.81495668, ...,\n",
      "         3210.81495668,  3210.81495668,  3210.81495668],\n",
      "       ..., \n",
      "       [ 3210.81495668,  3210.81495668,  3210.81495668, ...,\n",
      "         3210.81495668,  3210.81495668,  3210.81495668],\n",
      "       [ 3210.81495668,  3210.81495668,  3210.81495668, ...,\n",
      "         3210.81495668,  3210.81495668,  3210.81495668],\n",
      "       [ 3210.81495668,  3210.81495668,  3210.81495668, ...,\n",
      "         3210.81495668,  3210.81495668,  3210.81495668]]), array([[ 3210.02924646,  3210.02924646,  3210.02924646, ...,\n",
      "         3210.02924646,  3210.02924646,  3210.02924646],\n",
      "       [ 3210.02924646,  3210.02924646,  3210.02924646, ...,\n",
      "         3210.02924646,  3210.02924646,  3210.02924646],\n",
      "       [ 3210.02924646,  3210.02924646,  3210.02924646, ...,\n",
      "         3210.02924646,  3210.02924646,  3210.02924646],\n",
      "       ..., \n",
      "       [ 3210.02924646,  3210.02924646,  3210.02924646, ...,\n",
      "         3210.02924646,  3210.02924646,  3210.02924646],\n",
      "       [ 3210.02924646,  3210.02924646,  3210.02924646, ...,\n",
      "         3210.02924646,  3210.02924646,  3210.02924646],\n",
      "       [ 3210.02924646,  3210.02924646,  3210.02924646, ...,\n",
      "         3210.02924646,  3210.02924646,  3210.02924646]]), array([[ 3209.24446247,  3209.24446247,  3209.24446247, ...,\n",
      "         3209.24446247,  3209.24446247,  3209.24446247],\n",
      "       [ 3209.24446247,  3209.24446247,  3209.24446247, ...,\n",
      "         3209.24446247,  3209.24446247,  3209.24446247],\n",
      "       [ 3209.24446247,  3209.24446247,  3209.24446247, ...,\n",
      "         3209.24446247,  3209.24446247,  3209.24446247],\n",
      "       ..., \n",
      "       [ 3209.24446247,  3209.24446247,  3209.24446247, ...,\n",
      "         3209.24446247,  3209.24446247,  3209.24446247],\n",
      "       [ 3209.24446247,  3209.24446247,  3209.24446247, ...,\n",
      "         3209.24446247,  3209.24446247,  3209.24446247],\n",
      "       [ 3209.24446247,  3209.24446247,  3209.24446247, ...,\n",
      "         3209.24446247,  3209.24446247,  3209.24446247]]), array([[ 3208.46060286,  3208.46060286,  3208.46060286, ...,\n",
      "         3208.46060286,  3208.46060286,  3208.46060286],\n",
      "       [ 3208.46060286,  3208.46060286,  3208.46060286, ...,\n",
      "         3208.46060286,  3208.46060286,  3208.46060286],\n",
      "       [ 3208.46060286,  3208.46060286,  3208.46060286, ...,\n",
      "         3208.46060286,  3208.46060286,  3208.46060286],\n",
      "       ..., \n",
      "       [ 3208.46060286,  3208.46060286,  3208.46060286, ...,\n",
      "         3208.46060286,  3208.46060286,  3208.46060286],\n",
      "       [ 3208.46060286,  3208.46060286,  3208.46060286, ...,\n",
      "         3208.46060286,  3208.46060286,  3208.46060286],\n",
      "       [ 3208.46060286,  3208.46060286,  3208.46060286, ...,\n",
      "         3208.46060286,  3208.46060286,  3208.46060286]]), array([[ 3207.67766576,  3207.67766576,  3207.67766576, ...,\n",
      "         3207.67766576,  3207.67766576,  3207.67766576],\n",
      "       [ 3207.67766576,  3207.67766576,  3207.67766576, ...,\n",
      "         3207.67766576,  3207.67766576,  3207.67766576],\n",
      "       [ 3207.67766576,  3207.67766576,  3207.67766576, ...,\n",
      "         3207.67766576,  3207.67766576,  3207.67766576],\n",
      "       ..., \n",
      "       [ 3207.67766576,  3207.67766576,  3207.67766576, ...,\n",
      "         3207.67766576,  3207.67766576,  3207.67766576],\n",
      "       [ 3207.67766576,  3207.67766576,  3207.67766576, ...,\n",
      "         3207.67766576,  3207.67766576,  3207.67766576],\n",
      "       [ 3207.67766576,  3207.67766576,  3207.67766576, ...,\n",
      "         3207.67766576,  3207.67766576,  3207.67766576]])]\n"
     ]
    },
    {
     "name": "stderr",
     "output_type": "stream",
     "text": [
      "topoflow/components/solar_funcs.py:740: FutureWarning: comparison to `None` will result in an elementwise object comparison in the future.\n",
      "  if (hour_num != None):\n"
     ]
    }
   ],
   "source": [
    "time = [met.get_current_time().copy()]\n",
    "# NOTE: EMELI does not have get_value\n",
    "Q_sum = [met.get_values('land_surface_net-total-energy__energy_flux').copy()]\n",
    "\n",
    "print met.get_current_time(), met.get_end_time()\n",
    "print sno.get_current_time(), sno.get_end_time()\n",
    "\n",
    "while met.get_current_time() < met.get_end_time():\n",
    "    met.h_snow=sno.get_values('snowpack__depth')\n",
    "    met.update()\n",
    "    \n",
    "    time.append(met.get_current_time().copy())\n",
    "    sno.P_snow=met.get_values('atmosphere_water__snowfall_leq-volume_flux')\n",
    "    sno.rho_H2O=met.get_values('water-liquid__mass-per-volume_density')\n",
    "    sno.T_air=met.get_values('atmosphere_bottom_air__temperature')\n",
    "    \n",
    "    sno.update()\n",
    "    time.append(sno.get_current_time().copy())\n",
    "    #met.h_snow=sno.get_values('snowpack__depth')\n",
    "    print met.h_snow\n",
    "\n",
    "    Q_sum.append(met.get_values('land_surface_net-total-energy__energy_flux').copy() )\n",
    "    \n",
    "print time, Q_sum"
   ]
  },
  {
   "cell_type": "code",
   "execution_count": 16,
   "metadata": {
    "collapsed": false
   },
   "outputs": [
    {
     "data": {
      "text/plain": [
       "(11, 44, 29)"
      ]
     },
     "execution_count": 16,
     "metadata": {},
     "output_type": "execute_result"
    }
   ],
   "source": [
    "np.shape(Q_sum)\n",
    "#Q_sum[:,:,1]"
   ]
  },
  {
   "cell_type": "code",
   "execution_count": 16,
   "metadata": {
    "collapsed": false
   },
   "outputs": [
    {
     "data": {
      "image/png": "[encoded data removed]",
      "text/plain": [
       "<matplotlib.figure.Figure at 0x109111950>"
      ]
     },
     "metadata": {},
     "output_type": "display_data"
    }
   ],
   "source": [
    "plt.plot(time,T_air,'b'); \n",
    "plt.xlabel('Time (s)')\n",
    "plt.ylabel('Snow melt')\n",
    "plt.title('Snow Melt rate vs. time')\n",
    "plt.grid(); plt.show()"
   ]
  },
  {
   "cell_type": "code",
   "execution_count": 7,
   "metadata": {
    "collapsed": false
   },
   "outputs": [
    {
     "data": {
      "image/png": "[encoded data removed]",
      "text/plain": [
       "<matplotlib.figure.Figure at 0x105d83bd0>"
      ]
     },
     "metadata": {},
     "output_type": "display_data"
    }
   ],
   "source": [
    "plt.plot(time,h_snow); \n",
    "plt.xlabel('Time (s)')\n",
    "plt.ylabel('Snow depth')\n",
    "plt.title('Snow Depth rate vs. time')\n",
    "plt.grid(); plt.show()"
   ]
  },
  {
   "cell_type": "code",
   "execution_count": 9,
   "metadata": {
    "collapsed": false
   },
   "outputs": [
    {
     "data": {
      "text/plain": [
       "[array(0.5),\n",
       " array(240.49617500000002),\n",
       " array(480.49235000000004),\n",
       " array(720.488525),\n",
       " array(960.4847),\n",
       " array(1200.480875),\n",
       " array(1440.47705),\n",
       " array(1680.473225),\n",
       " array(1920.4694),\n",
       " array(2160.465575),\n",
       " array(2400.46175)]"
      ]
     },
     "execution_count": 9,
     "metadata": {},
     "output_type": "execute_result"
    }
   ],
   "source": [
    "h_snow"
   ]
  },
  {
   "cell_type": "code",
   "execution_count": null,
   "metadata": {
    "collapsed": true
   },
   "outputs": [],
   "source": []
  }
 ],
 "metadata": {
  "kernelspec": {
   "display_name": "Python 2",
   "language": "python",
   "name": "python2"
  },
  "language_info": {
   "codemirror_mode": {
    "name": "ipython",
    "version": 2
   },
   "file_extension": ".py",
   "mimetype": "text/x-python",
   "name": "python",
   "nbconvert_exporter": "python",
   "pygments_lexer": "ipython2",
   "version": "2.7.11"
  }
 },
 "nbformat": 4,
 "nbformat_minor": 0
}
