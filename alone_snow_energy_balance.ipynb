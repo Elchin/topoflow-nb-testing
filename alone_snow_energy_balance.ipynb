{
 "cells": [
  {
   "cell_type": "code",
   "execution_count": 3,
   "metadata": {
    "collapsed": false
   },
   "outputs": [
    {
     "name": "stdout",
     "output_type": "stream",
     "text": [
      "Importing TopoFlow packages:\n",
      "   topoflow.utils\n",
      "   topoflow.utils.tests\n",
      "   topoflow.components\n",
      "   topoflow.components.tests\n",
      "   topoflow.framework\n",
      "   topoflow.framework.tests\n",
      "   topoflow.gui (unfinished)\n",
      " \n",
      " \n",
      "Paths for this package:\n",
      "framework_dir = /Users/elja0262/Google Drive/active_projects/Topoflow_all/topoflow/topoflow/framework/\n",
      "parent_dir    = /Users/elja0262/Google Drive/active_projects/Topoflow_all/topoflow/topoflow/\n",
      "examples_dir  = /Users/elja0262/Google Drive/active_projects/Topoflow_all/topoflow/topoflow/examples/\n",
      "__file__      = topoflow/framework/emeli.pyc\n",
      "__name__      = topoflow.framework.emeli\n",
      " \n"
     ]
    }
   ],
   "source": [
    "%matplotlib inline\n",
    "import numpy as np\n",
    "from matplotlib import pyplot as plt\n",
    "from topoflow.components import snow_energy_balance "
   ]
  },
  {
   "cell_type": "code",
   "execution_count": 4,
   "metadata": {
    "collapsed": false
   },
   "outputs": [],
   "source": [
    "cfg_file='topoflow/examples/Treynor_Iowa/June_20_67_snow_energy_balance.cfg'\n",
    "m=snow_energy_balance.snow_component()"
   ]
  },
  {
   "cell_type": "code",
   "execution_count": 5,
   "metadata": {
    "collapsed": false
   },
   "outputs": [
    {
     "name": "stdout",
     "output_type": "stream",
     "text": [
      " \n",
      "Snow component: Initializing...\n",
      "Imported netCDF4 version: 1.1.9\n"
     ]
    },
    {
     "name": "stderr",
     "output_type": "stream",
     "text": [
      "/Users/elja0262/anaconda/lib/python2.7/site-packages/numpy/core/fromnumeric.py:2507: VisibleDeprecationWarning: `rank` is deprecated; use the `ndim` attribute or function instead. To find the rank of a matrix see `numpy.linalg.matrix_rank`.\n",
      "  VisibleDeprecationWarning)\n"
     ]
    },
    {
     "data": {
      "text/plain": [
       "array(0.0)"
      ]
     },
     "execution_count": 5,
     "metadata": {},
     "output_type": "execute_result"
    }
   ],
   "source": [
    "m.P_snow=0.02\n",
    "m.rho_H2O=1000 # density of water kg/m3\n",
    "m.T_air=10\n",
    "m.T_surf=8\n",
    "m.rho_air = 1.225 # density of water kg/m3\n",
    "m.Cp_air = 1.005 #  specific heat capacity kJ/(kg K))\n",
    "m.Q_sum = 100 # W/M2\n",
    "m.initialize(cfg_file);\n",
    "m.get_current_time()"
   ]
  },
  {
   "cell_type": "code",
   "execution_count": 6,
   "metadata": {
    "collapsed": false
   },
   "outputs": [
    {
     "name": "stdout",
     "output_type": "stream",
     "text": [
      "[array(0.0)] 0.0 36000.0\n",
      "[array(0.0), array(3600.0), array(7200.0), array(10800.0), array(14400.0), array(18000.0), array(21600.0), array(25200.0), array(28800.0), array(32400.0), array(36000.0)] [array(0.0), array(1237.7964071856288), array(2475.5928143712576), array(3713.3892215568867), array(4951.185628742515), array(6188.982035928144), array(7426.7784431137725), array(8664.574850299401), array(9902.37125748503), array(11140.16766467066), array(12377.96407185629)] [array([[ 0.5,  0.5,  0.5, ...,  0.5,  0.5,  0.5],\n",
      "       [ 0.5,  0.5,  0.5, ...,  0.5,  0.5,  0.5],\n",
      "       [ 0.5,  0.5,  0.5, ...,  0.5,  0.5,  0.5],\n",
      "       ..., \n",
      "       [ 0.5,  0.5,  0.5, ...,  0.5,  0.5,  0.5],\n",
      "       [ 0.5,  0.5,  0.5, ...,  0.5,  0.5,  0.5],\n",
      "       [ 0.5,  0.5,  0.5, ...,  0.5,  0.5,  0.5]]), array([[ 240.49640719,  240.49640719,  240.49640719, ...,  240.49640719,\n",
      "         240.49640719,  240.49640719],\n",
      "       [ 240.49640719,  240.49640719,  240.49640719, ...,  240.49640719,\n",
      "         240.49640719,  240.49640719],\n",
      "       [ 240.49640719,  240.49640719,  240.49640719, ...,  240.49640719,\n",
      "         240.49640719,  240.49640719],\n",
      "       ..., \n",
      "       [ 240.49640719,  240.49640719,  240.49640719, ...,  240.49640719,\n",
      "         240.49640719,  240.49640719],\n",
      "       [ 240.49640719,  240.49640719,  240.49640719, ...,  240.49640719,\n",
      "         240.49640719,  240.49640719],\n",
      "       [ 240.49640719,  240.49640719,  240.49640719, ...,  240.49640719,\n",
      "         240.49640719,  240.49640719]]), array([[ 480.49281437,  480.49281437,  480.49281437, ...,  480.49281437,\n",
      "         480.49281437,  480.49281437],\n",
      "       [ 480.49281437,  480.49281437,  480.49281437, ...,  480.49281437,\n",
      "         480.49281437,  480.49281437],\n",
      "       [ 480.49281437,  480.49281437,  480.49281437, ...,  480.49281437,\n",
      "         480.49281437,  480.49281437],\n",
      "       ..., \n",
      "       [ 480.49281437,  480.49281437,  480.49281437, ...,  480.49281437,\n",
      "         480.49281437,  480.49281437],\n",
      "       [ 480.49281437,  480.49281437,  480.49281437, ...,  480.49281437,\n",
      "         480.49281437,  480.49281437],\n",
      "       [ 480.49281437,  480.49281437,  480.49281437, ...,  480.49281437,\n",
      "         480.49281437,  480.49281437]]), array([[ 720.48922156,  720.48922156,  720.48922156, ...,  720.48922156,\n",
      "         720.48922156,  720.48922156],\n",
      "       [ 720.48922156,  720.48922156,  720.48922156, ...,  720.48922156,\n",
      "         720.48922156,  720.48922156],\n",
      "       [ 720.48922156,  720.48922156,  720.48922156, ...,  720.48922156,\n",
      "         720.48922156,  720.48922156],\n",
      "       ..., \n",
      "       [ 720.48922156,  720.48922156,  720.48922156, ...,  720.48922156,\n",
      "         720.48922156,  720.48922156],\n",
      "       [ 720.48922156,  720.48922156,  720.48922156, ...,  720.48922156,\n",
      "         720.48922156,  720.48922156],\n",
      "       [ 720.48922156,  720.48922156,  720.48922156, ...,  720.48922156,\n",
      "         720.48922156,  720.48922156]]), array([[ 960.48562874,  960.48562874,  960.48562874, ...,  960.48562874,\n",
      "         960.48562874,  960.48562874],\n",
      "       [ 960.48562874,  960.48562874,  960.48562874, ...,  960.48562874,\n",
      "         960.48562874,  960.48562874],\n",
      "       [ 960.48562874,  960.48562874,  960.48562874, ...,  960.48562874,\n",
      "         960.48562874,  960.48562874],\n",
      "       ..., \n",
      "       [ 960.48562874,  960.48562874,  960.48562874, ...,  960.48562874,\n",
      "         960.48562874,  960.48562874],\n",
      "       [ 960.48562874,  960.48562874,  960.48562874, ...,  960.48562874,\n",
      "         960.48562874,  960.48562874],\n",
      "       [ 960.48562874,  960.48562874,  960.48562874, ...,  960.48562874,\n",
      "         960.48562874,  960.48562874]]), array([[ 1200.48203593,  1200.48203593,  1200.48203593, ...,\n",
      "         1200.48203593,  1200.48203593,  1200.48203593],\n",
      "       [ 1200.48203593,  1200.48203593,  1200.48203593, ...,\n",
      "         1200.48203593,  1200.48203593,  1200.48203593],\n",
      "       [ 1200.48203593,  1200.48203593,  1200.48203593, ...,\n",
      "         1200.48203593,  1200.48203593,  1200.48203593],\n",
      "       ..., \n",
      "       [ 1200.48203593,  1200.48203593,  1200.48203593, ...,\n",
      "         1200.48203593,  1200.48203593,  1200.48203593],\n",
      "       [ 1200.48203593,  1200.48203593,  1200.48203593, ...,\n",
      "         1200.48203593,  1200.48203593,  1200.48203593],\n",
      "       [ 1200.48203593,  1200.48203593,  1200.48203593, ...,\n",
      "         1200.48203593,  1200.48203593,  1200.48203593]]), array([[ 1440.47844311,  1440.47844311,  1440.47844311, ...,\n",
      "         1440.47844311,  1440.47844311,  1440.47844311],\n",
      "       [ 1440.47844311,  1440.47844311,  1440.47844311, ...,\n",
      "         1440.47844311,  1440.47844311,  1440.47844311],\n",
      "       [ 1440.47844311,  1440.47844311,  1440.47844311, ...,\n",
      "         1440.47844311,  1440.47844311,  1440.47844311],\n",
      "       ..., \n",
      "       [ 1440.47844311,  1440.47844311,  1440.47844311, ...,\n",
      "         1440.47844311,  1440.47844311,  1440.47844311],\n",
      "       [ 1440.47844311,  1440.47844311,  1440.47844311, ...,\n",
      "         1440.47844311,  1440.47844311,  1440.47844311],\n",
      "       [ 1440.47844311,  1440.47844311,  1440.47844311, ...,\n",
      "         1440.47844311,  1440.47844311,  1440.47844311]]), array([[ 1680.4748503,  1680.4748503,  1680.4748503, ...,  1680.4748503,\n",
      "         1680.4748503,  1680.4748503],\n",
      "       [ 1680.4748503,  1680.4748503,  1680.4748503, ...,  1680.4748503,\n",
      "         1680.4748503,  1680.4748503],\n",
      "       [ 1680.4748503,  1680.4748503,  1680.4748503, ...,  1680.4748503,\n",
      "         1680.4748503,  1680.4748503],\n",
      "       ..., \n",
      "       [ 1680.4748503,  1680.4748503,  1680.4748503, ...,  1680.4748503,\n",
      "         1680.4748503,  1680.4748503],\n",
      "       [ 1680.4748503,  1680.4748503,  1680.4748503, ...,  1680.4748503,\n",
      "         1680.4748503,  1680.4748503],\n",
      "       [ 1680.4748503,  1680.4748503,  1680.4748503, ...,  1680.4748503,\n",
      "         1680.4748503,  1680.4748503]]), array([[ 1920.47125749,  1920.47125749,  1920.47125749, ...,\n",
      "         1920.47125749,  1920.47125749,  1920.47125749],\n",
      "       [ 1920.47125749,  1920.47125749,  1920.47125749, ...,\n",
      "         1920.47125749,  1920.47125749,  1920.47125749],\n",
      "       [ 1920.47125749,  1920.47125749,  1920.47125749, ...,\n",
      "         1920.47125749,  1920.47125749,  1920.47125749],\n",
      "       ..., \n",
      "       [ 1920.47125749,  1920.47125749,  1920.47125749, ...,\n",
      "         1920.47125749,  1920.47125749,  1920.47125749],\n",
      "       [ 1920.47125749,  1920.47125749,  1920.47125749, ...,\n",
      "         1920.47125749,  1920.47125749,  1920.47125749],\n",
      "       [ 1920.47125749,  1920.47125749,  1920.47125749, ...,\n",
      "         1920.47125749,  1920.47125749,  1920.47125749]]), array([[ 2160.46766467,  2160.46766467,  2160.46766467, ...,\n",
      "         2160.46766467,  2160.46766467,  2160.46766467],\n",
      "       [ 2160.46766467,  2160.46766467,  2160.46766467, ...,\n",
      "         2160.46766467,  2160.46766467,  2160.46766467],\n",
      "       [ 2160.46766467,  2160.46766467,  2160.46766467, ...,\n",
      "         2160.46766467,  2160.46766467,  2160.46766467],\n",
      "       ..., \n",
      "       [ 2160.46766467,  2160.46766467,  2160.46766467, ...,\n",
      "         2160.46766467,  2160.46766467,  2160.46766467],\n",
      "       [ 2160.46766467,  2160.46766467,  2160.46766467, ...,\n",
      "         2160.46766467,  2160.46766467,  2160.46766467],\n",
      "       [ 2160.46766467,  2160.46766467,  2160.46766467, ...,\n",
      "         2160.46766467,  2160.46766467,  2160.46766467]]), array([[ 2400.46407186,  2400.46407186,  2400.46407186, ...,\n",
      "         2400.46407186,  2400.46407186,  2400.46407186],\n",
      "       [ 2400.46407186,  2400.46407186,  2400.46407186, ...,\n",
      "         2400.46407186,  2400.46407186,  2400.46407186],\n",
      "       [ 2400.46407186,  2400.46407186,  2400.46407186, ...,\n",
      "         2400.46407186,  2400.46407186,  2400.46407186],\n",
      "       ..., \n",
      "       [ 2400.46407186,  2400.46407186,  2400.46407186, ...,\n",
      "         2400.46407186,  2400.46407186,  2400.46407186],\n",
      "       [ 2400.46407186,  2400.46407186,  2400.46407186, ...,\n",
      "         2400.46407186,  2400.46407186,  2400.46407186],\n",
      "       [ 2400.46407186,  2400.46407186,  2400.46407186, ...,\n",
      "         2400.46407186,  2400.46407186,  2400.46407186]])]\n"
     ]
    }
   ],
   "source": [
    "time = [m.get_current_time().copy()]\n",
    "# NOTE: EMELI does not have get_value\n",
    "vol_SM = [m.get_values('snowpack__domain_time_integral_of_melt_volume_flux').copy()]\n",
    "h_snow = [m.get_values('snowpack__depth').copy()] \n",
    "h_swe = [m.get_values('snowpack__liquid-equivalent_depth').copy()]\n",
    "SM = [m.get_values('snowpack__melt_volume_flux').copy()]\n",
    "rho_swe = [m.get_values('snowpack__z_mean_of_mass-per-volume_density').copy()]\n",
    "\n",
    "print vol_SM, m.get_current_time(), m.get_end_time()\n",
    "while m.get_current_time() < m.get_end_time():\n",
    "    m.update()\n",
    "    time.append(m.get_current_time().copy())\n",
    "    vol_SM.append(m.get_values('snowpack__domain_time_integral_of_melt_volume_flux').copy() )\n",
    "    h_snow.append(m.get_values('snowpack__depth').copy() )\n",
    "    h_swe.append(m.get_values('snowpack__liquid-equivalent_depth').copy() )\n",
    "    SM.append(m.get_values('snowpack__melt_volume_flux').copy() )\n",
    "    rho_swe.append(m.get_values('snowpack__z_mean_of_mass-per-volume_density').copy() )\n",
    "    \n",
    "print time, vol_SM, h_snow"
   ]
  },
  {
   "cell_type": "code",
   "execution_count": 7,
   "metadata": {
    "collapsed": false
   },
   "outputs": [
    {
     "data": {
      "text/plain": [
       "((11,), (11, 44, 29), (11, 44, 29), (11, 44, 29), (11,))"
      ]
     },
     "execution_count": 7,
     "metadata": {},
     "output_type": "execute_result"
    }
   ],
   "source": [
    "np.shape(vol_SM), np.shape( h_snow), np.shape( h_swe),np.shape(SM), np.shape(rho_swe)"
   ]
  },
  {
   "cell_type": "code",
   "execution_count": 8,
   "metadata": {
    "collapsed": false
   },
   "outputs": [
    {
     "data": {
      "image/png": "[encoded data removed]",
      "text/plain": [
       "<matplotlib.figure.Figure at 0x108822e50>"
      ]
     },
     "metadata": {},
     "output_type": "display_data"
    }
   ],
   "source": [
    "plt.plot(time,vol_SM,'b'); \n",
    "plt.xlabel('Time (s)')\n",
    "plt.ylabel('Snow melt (m s-1)')\n",
    "plt.title('Snow Melt rate vs. time')\n",
    "plt.grid(); plt.show()"
   ]
  },
  {
   "cell_type": "code",
   "execution_count": 26,
   "metadata": {
    "collapsed": false
   },
   "outputs": [
    {
     "ename": "ValueError",
     "evalue": "x and y must have same first dimension",
     "output_type": "error",
     "traceback": [
      "\u001b[0;31m---------------------------------------------------------------------------\u001b[0m",
      "\u001b[0;31mValueError\u001b[0m                                Traceback (most recent call last)",
      "\u001b[0;32m<ipython-input-26-ccdbd8775f80>\u001b[0m in \u001b[0;36m<module>\u001b[0;34m()\u001b[0m\n\u001b[1;32m      1\u001b[0m \u001b[0;34m\u001b[0m\u001b[0m\n\u001b[0;32m----> 2\u001b[0;31m \u001b[0mplt\u001b[0m\u001b[0;34m.\u001b[0m\u001b[0mplot\u001b[0m\u001b[0;34m(\u001b[0m\u001b[0mtime\u001b[0m\u001b[0;34m,\u001b[0m\u001b[0mh_snow\u001b[0m\u001b[0;34m[\u001b[0m\u001b[0;36m0\u001b[0m\u001b[0;34m]\u001b[0m\u001b[0;34m)\u001b[0m\u001b[0;34m;\u001b[0m\u001b[0;34m\u001b[0m\u001b[0m\n\u001b[0m\u001b[1;32m      3\u001b[0m \u001b[0mplt\u001b[0m\u001b[0;34m.\u001b[0m\u001b[0mxlabel\u001b[0m\u001b[0;34m(\u001b[0m\u001b[0;34m'Time (s)'\u001b[0m\u001b[0;34m)\u001b[0m\u001b[0;34m\u001b[0m\u001b[0m\n\u001b[1;32m      4\u001b[0m \u001b[0mplt\u001b[0m\u001b[0;34m.\u001b[0m\u001b[0mylabel\u001b[0m\u001b[0;34m(\u001b[0m\u001b[0;34m'Snow depth'\u001b[0m\u001b[0;34m)\u001b[0m\u001b[0;34m\u001b[0m\u001b[0m\n\u001b[1;32m      5\u001b[0m \u001b[0mplt\u001b[0m\u001b[0;34m.\u001b[0m\u001b[0mtitle\u001b[0m\u001b[0;34m(\u001b[0m\u001b[0;34m'Snow Depth rate vs. time'\u001b[0m\u001b[0;34m)\u001b[0m\u001b[0;34m\u001b[0m\u001b[0m\n",
      "\u001b[0;32m/Users/elchin/anaconda/lib/python2.7/site-packages/matplotlib/pyplot.pyc\u001b[0m in \u001b[0;36mplot\u001b[0;34m(*args, **kwargs)\u001b[0m\n\u001b[1;32m   3097\u001b[0m         \u001b[0max\u001b[0m\u001b[0;34m.\u001b[0m\u001b[0mhold\u001b[0m\u001b[0;34m(\u001b[0m\u001b[0mhold\u001b[0m\u001b[0;34m)\u001b[0m\u001b[0;34m\u001b[0m\u001b[0m\n\u001b[1;32m   3098\u001b[0m     \u001b[0;32mtry\u001b[0m\u001b[0;34m:\u001b[0m\u001b[0;34m\u001b[0m\u001b[0m\n\u001b[0;32m-> 3099\u001b[0;31m         \u001b[0mret\u001b[0m \u001b[0;34m=\u001b[0m \u001b[0max\u001b[0m\u001b[0;34m.\u001b[0m\u001b[0mplot\u001b[0m\u001b[0;34m(\u001b[0m\u001b[0;34m*\u001b[0m\u001b[0margs\u001b[0m\u001b[0;34m,\u001b[0m \u001b[0;34m**\u001b[0m\u001b[0mkwargs\u001b[0m\u001b[0;34m)\u001b[0m\u001b[0;34m\u001b[0m\u001b[0m\n\u001b[0m\u001b[1;32m   3100\u001b[0m         \u001b[0mdraw_if_interactive\u001b[0m\u001b[0;34m(\u001b[0m\u001b[0;34m)\u001b[0m\u001b[0;34m\u001b[0m\u001b[0m\n\u001b[1;32m   3101\u001b[0m     \u001b[0;32mfinally\u001b[0m\u001b[0;34m:\u001b[0m\u001b[0;34m\u001b[0m\u001b[0m\n",
      "\u001b[0;32m/Users/elchin/anaconda/lib/python2.7/site-packages/matplotlib/axes/_axes.pyc\u001b[0m in \u001b[0;36mplot\u001b[0;34m(self, *args, **kwargs)\u001b[0m\n\u001b[1;32m   1371\u001b[0m         \u001b[0mlines\u001b[0m \u001b[0;34m=\u001b[0m \u001b[0;34m[\u001b[0m\u001b[0;34m]\u001b[0m\u001b[0;34m\u001b[0m\u001b[0m\n\u001b[1;32m   1372\u001b[0m \u001b[0;34m\u001b[0m\u001b[0m\n\u001b[0;32m-> 1373\u001b[0;31m         \u001b[0;32mfor\u001b[0m \u001b[0mline\u001b[0m \u001b[0;32min\u001b[0m \u001b[0mself\u001b[0m\u001b[0;34m.\u001b[0m\u001b[0m_get_lines\u001b[0m\u001b[0;34m(\u001b[0m\u001b[0;34m*\u001b[0m\u001b[0margs\u001b[0m\u001b[0;34m,\u001b[0m \u001b[0;34m**\u001b[0m\u001b[0mkwargs\u001b[0m\u001b[0;34m)\u001b[0m\u001b[0;34m:\u001b[0m\u001b[0;34m\u001b[0m\u001b[0m\n\u001b[0m\u001b[1;32m   1374\u001b[0m             \u001b[0mself\u001b[0m\u001b[0;34m.\u001b[0m\u001b[0madd_line\u001b[0m\u001b[0;34m(\u001b[0m\u001b[0mline\u001b[0m\u001b[0;34m)\u001b[0m\u001b[0;34m\u001b[0m\u001b[0m\n\u001b[1;32m   1375\u001b[0m             \u001b[0mlines\u001b[0m\u001b[0;34m.\u001b[0m\u001b[0mappend\u001b[0m\u001b[0;34m(\u001b[0m\u001b[0mline\u001b[0m\u001b[0;34m)\u001b[0m\u001b[0;34m\u001b[0m\u001b[0m\n",
      "\u001b[0;32m/Users/elchin/anaconda/lib/python2.7/site-packages/matplotlib/axes/_base.pyc\u001b[0m in \u001b[0;36m_grab_next_args\u001b[0;34m(self, *args, **kwargs)\u001b[0m\n\u001b[1;32m    302\u001b[0m                 \u001b[0;32mreturn\u001b[0m\u001b[0;34m\u001b[0m\u001b[0m\n\u001b[1;32m    303\u001b[0m             \u001b[0;32mif\u001b[0m \u001b[0mlen\u001b[0m\u001b[0;34m(\u001b[0m\u001b[0mremaining\u001b[0m\u001b[0;34m)\u001b[0m \u001b[0;34m<=\u001b[0m \u001b[0;36m3\u001b[0m\u001b[0;34m:\u001b[0m\u001b[0;34m\u001b[0m\u001b[0m\n\u001b[0;32m--> 304\u001b[0;31m                 \u001b[0;32mfor\u001b[0m \u001b[0mseg\u001b[0m \u001b[0;32min\u001b[0m \u001b[0mself\u001b[0m\u001b[0;34m.\u001b[0m\u001b[0m_plot_args\u001b[0m\u001b[0;34m(\u001b[0m\u001b[0mremaining\u001b[0m\u001b[0;34m,\u001b[0m \u001b[0mkwargs\u001b[0m\u001b[0;34m)\u001b[0m\u001b[0;34m:\u001b[0m\u001b[0;34m\u001b[0m\u001b[0m\n\u001b[0m\u001b[1;32m    305\u001b[0m                     \u001b[0;32myield\u001b[0m \u001b[0mseg\u001b[0m\u001b[0;34m\u001b[0m\u001b[0m\n\u001b[1;32m    306\u001b[0m                 \u001b[0;32mreturn\u001b[0m\u001b[0;34m\u001b[0m\u001b[0m\n",
      "\u001b[0;32m/Users/elchin/anaconda/lib/python2.7/site-packages/matplotlib/axes/_base.pyc\u001b[0m in \u001b[0;36m_plot_args\u001b[0;34m(self, tup, kwargs)\u001b[0m\n\u001b[1;32m    280\u001b[0m             \u001b[0mx\u001b[0m \u001b[0;34m=\u001b[0m \u001b[0mnp\u001b[0m\u001b[0;34m.\u001b[0m\u001b[0marange\u001b[0m\u001b[0;34m(\u001b[0m\u001b[0my\u001b[0m\u001b[0;34m.\u001b[0m\u001b[0mshape\u001b[0m\u001b[0;34m[\u001b[0m\u001b[0;36m0\u001b[0m\u001b[0;34m]\u001b[0m\u001b[0;34m,\u001b[0m \u001b[0mdtype\u001b[0m\u001b[0;34m=\u001b[0m\u001b[0mfloat\u001b[0m\u001b[0;34m)\u001b[0m\u001b[0;34m\u001b[0m\u001b[0m\n\u001b[1;32m    281\u001b[0m \u001b[0;34m\u001b[0m\u001b[0m\n\u001b[0;32m--> 282\u001b[0;31m         \u001b[0mx\u001b[0m\u001b[0;34m,\u001b[0m \u001b[0my\u001b[0m \u001b[0;34m=\u001b[0m \u001b[0mself\u001b[0m\u001b[0;34m.\u001b[0m\u001b[0m_xy_from_xy\u001b[0m\u001b[0;34m(\u001b[0m\u001b[0mx\u001b[0m\u001b[0;34m,\u001b[0m \u001b[0my\u001b[0m\u001b[0;34m)\u001b[0m\u001b[0;34m\u001b[0m\u001b[0m\n\u001b[0m\u001b[1;32m    283\u001b[0m \u001b[0;34m\u001b[0m\u001b[0m\n\u001b[1;32m    284\u001b[0m         \u001b[0;32mif\u001b[0m \u001b[0mself\u001b[0m\u001b[0;34m.\u001b[0m\u001b[0mcommand\u001b[0m \u001b[0;34m==\u001b[0m \u001b[0;34m'plot'\u001b[0m\u001b[0;34m:\u001b[0m\u001b[0;34m\u001b[0m\u001b[0m\n",
      "\u001b[0;32m/Users/elchin/anaconda/lib/python2.7/site-packages/matplotlib/axes/_base.pyc\u001b[0m in \u001b[0;36m_xy_from_xy\u001b[0;34m(self, x, y)\u001b[0m\n\u001b[1;32m    221\u001b[0m         \u001b[0my\u001b[0m \u001b[0;34m=\u001b[0m \u001b[0mnp\u001b[0m\u001b[0;34m.\u001b[0m\u001b[0matleast_1d\u001b[0m\u001b[0;34m(\u001b[0m\u001b[0my\u001b[0m\u001b[0;34m)\u001b[0m\u001b[0;34m\u001b[0m\u001b[0m\n\u001b[1;32m    222\u001b[0m         \u001b[0;32mif\u001b[0m \u001b[0mx\u001b[0m\u001b[0;34m.\u001b[0m\u001b[0mshape\u001b[0m\u001b[0;34m[\u001b[0m\u001b[0;36m0\u001b[0m\u001b[0;34m]\u001b[0m \u001b[0;34m!=\u001b[0m \u001b[0my\u001b[0m\u001b[0;34m.\u001b[0m\u001b[0mshape\u001b[0m\u001b[0;34m[\u001b[0m\u001b[0;36m0\u001b[0m\u001b[0;34m]\u001b[0m\u001b[0;34m:\u001b[0m\u001b[0;34m\u001b[0m\u001b[0m\n\u001b[0;32m--> 223\u001b[0;31m             \u001b[0;32mraise\u001b[0m \u001b[0mValueError\u001b[0m\u001b[0;34m(\u001b[0m\u001b[0;34m\"x and y must have same first dimension\"\u001b[0m\u001b[0;34m)\u001b[0m\u001b[0;34m\u001b[0m\u001b[0m\n\u001b[0m\u001b[1;32m    224\u001b[0m         \u001b[0;32mif\u001b[0m \u001b[0mx\u001b[0m\u001b[0;34m.\u001b[0m\u001b[0mndim\u001b[0m \u001b[0;34m>\u001b[0m \u001b[0;36m2\u001b[0m \u001b[0;32mor\u001b[0m \u001b[0my\u001b[0m\u001b[0;34m.\u001b[0m\u001b[0mndim\u001b[0m \u001b[0;34m>\u001b[0m \u001b[0;36m2\u001b[0m\u001b[0;34m:\u001b[0m\u001b[0;34m\u001b[0m\u001b[0m\n\u001b[1;32m    225\u001b[0m             \u001b[0;32mraise\u001b[0m \u001b[0mValueError\u001b[0m\u001b[0;34m(\u001b[0m\u001b[0;34m\"x and y can be no greater than 2-D\"\u001b[0m\u001b[0;34m)\u001b[0m\u001b[0;34m\u001b[0m\u001b[0m\n",
      "\u001b[0;31mValueError\u001b[0m: x and y must have same first dimension"
     ]
    },
    {
     "data": {
      "image/png": "[encoded data removed]",
      "text/plain": [
       "<matplotlib.figure.Figure at 0x10968ca10>"
      ]
     },
     "metadata": {},
     "output_type": "display_data"
    }
   ],
   "source": [
    "\n",
    "plt.plot(time,h_snow[0]); \n",
    "plt.xlabel('Time (s)')\n",
    "plt.ylabel('Snow depth')\n",
    "plt.title('Snow Depth rate vs. time')\n",
    "plt.grid(); plt.show()"
   ]
  },
  {
   "cell_type": "code",
   "execution_count": 36,
   "metadata": {
    "collapsed": false
   },
   "outputs": [
    {
     "data": {
      "text/plain": [
       "(44, 29)"
      ]
     },
     "execution_count": 36,
     "metadata": {},
     "output_type": "execute_result"
    }
   ],
   "source": [
    "h_snow[0].shape"
   ]
  },
  {
   "cell_type": "code",
   "execution_count": 37,
   "metadata": {
    "collapsed": false
   },
   "outputs": [
    {
     "data": {
      "text/plain": [
       "1276"
      ]
     },
     "execution_count": 37,
     "metadata": {},
     "output_type": "execute_result"
    }
   ],
   "source": [
    "h_snow[0].size"
   ]
  },
  {
   "cell_type": "code",
   "execution_count": null,
   "metadata": {
    "collapsed": true
   },
   "outputs": [],
   "source": []
  }
 ],
 "metadata": {
  "kernelspec": {
   "display_name": "Python 2",
   "language": "python",
   "name": "python2"
  },
  "language_info": {
   "codemirror_mode": {
    "name": "ipython",
    "version": 2
   },
   "file_extension": ".py",
   "mimetype": "text/x-python",
   "name": "python",
   "nbconvert_exporter": "python",
   "pygments_lexer": "ipython2",
   "version": "2.7.10"
  }
 },
 "nbformat": 4,
 "nbformat_minor": 0
}
