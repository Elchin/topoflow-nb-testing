{
 "cells": [
  {
   "cell_type": "code",
   "execution_count": 1,
   "metadata": {
    "collapsed": false
   },
   "outputs": [
    {
     "name": "stdout",
     "output_type": "stream",
     "text": [
      "Importing TopoFlow packages:\n",
      "   topoflow.utils\n",
      "   topoflow.utils.tests\n",
      "   topoflow.components\n",
      "   topoflow.components.tests\n",
      "   topoflow.framework\n",
      "   topoflow.framework.tests\n",
      "   topoflow.gui (unfinished)\n",
      " \n",
      " \n",
      "Paths for this package:\n",
      "framework_dir = /Users/elja0262/Google Drive/active_projects/Topoflow_all/topoflow/topoflow/framework/\n",
      "parent_dir    = /Users/elja0262/Google Drive/active_projects/Topoflow_all/topoflow/topoflow/\n",
      "examples_dir  = /Users/elja0262/Google Drive/active_projects/Topoflow_all/topoflow/topoflow/examples/\n",
      "__file__      = topoflow/framework/emeli.pyc\n",
      "__name__      = topoflow.framework.emeli\n",
      " \n"
     ]
    }
   ],
   "source": [
    "%matplotlib inline\n",
    "import numpy as np\n",
    "from matplotlib import pyplot as plt\n",
    "from topoflow.components import snow_energy_balance "
   ]
  },
  {
   "cell_type": "code",
   "execution_count": 2,
   "metadata": {
    "collapsed": false
   },
   "outputs": [],
   "source": [
    "cfg_file='topoflow/examples/Treynor_Iowa/June_20_67_snow_energy_balance.cfg'\n",
    "m=snow_energy_balance.snow_component()"
   ]
  },
  {
   "cell_type": "code",
   "execution_count": 3,
   "metadata": {
    "collapsed": false
   },
   "outputs": [
    {
     "name": "stdout",
     "output_type": "stream",
     "text": [
      " \n",
      "Snow component: Initializing...\n",
      "Imported netCDF4 version: 1.1.9\n"
     ]
    },
    {
     "name": "stderr",
     "output_type": "stream",
     "text": [
      "/Users/elja0262/anaconda/lib/python2.7/site-packages/numpy/core/fromnumeric.py:2507: VisibleDeprecationWarning: `rank` is deprecated; use the `ndim` attribute or function instead. To find the rank of a matrix see `numpy.linalg.matrix_rank`.\n",
      "  VisibleDeprecationWarning)\n"
     ]
    }
   ],
   "source": [
    "m.P_snow=0.02\n",
    "m.rho_H2O=1000 # density of water kg/m3\n",
    "m.T_air=10\n",
    "m.T_surf=8\n",
    "m.rho_air = 1.225 # density of water kg/m3\n",
    "m.Cp_air = 1.005 #  specific heat capacity kJ/(kg K))\n",
    "m.Q_sum = 100 # W/M2\n",
    "m.initialize(cfg_file);"
   ]
  },
  {
   "cell_type": "code",
   "execution_count": 4,
   "metadata": {
    "collapsed": false
   },
   "outputs": [
    {
     "name": "stdout",
     "output_type": "stream",
     "text": [
      "0.0 36000.0\n",
      "3600.0 36000.0\n",
      "7200.0 36000.0\n",
      "10800.0 36000.0\n",
      "14400.0 36000.0\n",
      "18000.0 36000.0\n",
      "21600.0 36000.0\n",
      "25200.0 36000.0\n",
      "28800.0 36000.0\n",
      "32400.0 36000.0\n",
      "(11,) (11, 44, 29) (11, 44, 29) (11, 44, 29) (11,)\n"
     ]
    }
   ],
   "source": [
    "time = [m.get_current_time().copy()]\n",
    "# NOTE: EMELI does not have get_value\n",
    "vol_SM = [m.get_values('snowpack__domain_time_integral_of_melt_volume_flux').copy()]\n",
    "h_snow = [m.get_values('snowpack__depth').copy()] \n",
    "h_swe = [m.get_values('snowpack__liquid-equivalent_depth').copy()]\n",
    "SM = [m.get_values('snowpack__melt_volume_flux').copy()]\n",
    "rho_snow = [m.get_values('snowpack__z_mean_of_mass-per-volume_density').copy()]\n",
    "\n",
    "while m.get_current_time() < m.get_end_time():\n",
    "    print m.get_current_time(), m.get_end_time()\n",
    "    m.update()\n",
    "    time.append(m.get_current_time().copy())\n",
    "    vol_SM.append(m.vol_SM.copy() )\n",
    "    h_snow.append(m.h_snow.copy() )\n",
    "    h_swe.append(m.h_swe.copy() )\n",
    "    SM.append(m.SM.copy() )\n",
    "    rho_snow.append(m.rho_snow.copy() )\n",
    "    \n",
    "print np.shape(vol_SM), np.shape( h_snow), np.shape( h_swe),np.shape(SM), np.shape(rho_snow)"
   ]
  },
  {
   "cell_type": "code",
   "execution_count": 6,
   "metadata": {
    "collapsed": false
   },
   "outputs": [
    {
     "data": {
      "image/png": "[encoded data removed]",
      "text/plain": [
       "<matplotlib.figure.Figure at 0x108909f10>"
      ]
     },
     "metadata": {},
     "output_type": "display_data"
    }
   ],
   "source": [
    "plt.plot(time,vol_SM,'b'); \n",
    "plt.xlabel('Time (s)')\n",
    "plt.ylabel('Snow melt (m s-1)')\n",
    "plt.title('Snow Melt rate vs. time')\n",
    "plt.grid(); plt.show()"
   ]
  },
  {
   "cell_type": "code",
   "execution_count": null,
   "metadata": {
    "collapsed": true
   },
   "outputs": [],
   "source": []
  }
 ],
 "metadata": {
  "kernelspec": {
   "display_name": "Python 2",
   "language": "python",
   "name": "python2"
  },
  "language_info": {
   "codemirror_mode": {
    "name": "ipython",
    "version": 2
   },
   "file_extension": ".py",
   "mimetype": "text/x-python",
   "name": "python",
   "nbconvert_exporter": "python",
   "pygments_lexer": "ipython2",
   "version": "2.7.10"
  }
 },
 "nbformat": 4,
 "nbformat_minor": 0
}
