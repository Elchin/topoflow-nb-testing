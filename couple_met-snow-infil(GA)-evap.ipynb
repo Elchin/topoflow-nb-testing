{
 "cells": [
  {
   "cell_type": "code",
   "execution_count": 1,
   "metadata": {
    "collapsed": false
   },
   "outputs": [
    {
     "name": "stdout",
     "output_type": "stream",
     "text": [
      "Importing TopoFlow packages:\n",
      "   topoflow.utils\n",
      "   topoflow.utils.tests\n",
      "   topoflow.components\n",
      "   topoflow.components.tests\n",
      "   topoflow.framework\n",
      "   topoflow.framework.tests\n",
      "   topoflow.gui (unfinished)\n",
      " \n",
      " \n",
      "Paths for this package:\n",
      "framework_dir = /Users/elchin/Google Drive/active_projects/Topoflow_all/topoflow/topoflow/framework/\n",
      "parent_dir    = /Users/elchin/Google Drive/active_projects/Topoflow_all/topoflow/topoflow/\n",
      "examples_dir  = /Users/elchin/Google Drive/active_projects/Topoflow_all/topoflow/topoflow/examples/\n",
      "__file__      = topoflow/framework/emeli.pyc\n",
      "__name__      = topoflow.framework.emeli\n",
      " \n"
     ]
    }
   ],
   "source": [
    "%matplotlib inline\n",
    "import numpy as np\n",
    "from matplotlib import pyplot as plt\n",
    "from topoflow.components import met_base, snow_degree_day, infil_green_ampt, evap_priestley_taylor"
   ]
  },
  {
   "cell_type": "code",
   "execution_count": 2,
   "metadata": {
    "collapsed": false
   },
   "outputs": [],
   "source": [
    "met, sno, infl = met_base.met_component(), snow_degree_day.snow_component(), infil_green_ampt.infil_component()\n",
    "evap=evap_priestley_taylor.evap_component()"
   ]
  },
  {
   "cell_type": "code",
   "execution_count": 3,
   "metadata": {
    "collapsed": true
   },
   "outputs": [],
   "source": [
    "cfg_file_met='topoflow/examples/Treynor_Iowa/June_20_67_meteorology.cfg'\n",
    "cfg_file_sno='topoflow/examples/Treynor_Iowa/June_20_67_snow_degree_day.cfg'\n",
    "cfg_file_inf='topoflow/examples/Treynor_Iowa/June_20_67_infil_green_ampt.cfg'\n",
    "cfg_file_eva='topoflow/examples/Treynor_Iowa/June_20_67_evap_priestley_taylor.cfg'"
   ]
  },
  {
   "cell_type": "code",
   "execution_count": 4,
   "metadata": {
    "collapsed": false
   },
   "outputs": [
    {
     "name": "stdout",
     "output_type": "stream",
     "text": [
      " \n",
      "Meteorology component: Initializing...\n",
      "Scalar rainrate set to: 5.55555555556e-05  [mmph]\n",
      "SORRY: Cannot yet create lon and lat grids for\n",
      "       this DEM because it uses UTM coordinates.\n",
      "       Will use lat/lon for Denver, Colorado.\n",
      " \n",
      "Imported netCDF4 version: 1.2.2\n",
      "0.0\n",
      "1000.0\n",
      "20.0\n",
      " \n",
      "Snow component: Initializing...\n",
      "Imported netCDF4 version: 1.2.2\n",
      "0.0\n",
      "0.0\n",
      " \n",
      "Infiltration component: Initializing...\n",
      "Imported netCDF4 version: 1.2.2\n"
     ]
    },
    {
     "name": "stderr",
     "output_type": "stream",
     "text": [
      "/Users/elchin/anaconda/lib/python2.7/site-packages/numpy/core/fromnumeric.py:2645: VisibleDeprecationWarning: `rank` is deprecated; use the `ndim` attribute or function instead. To find the rank of a matrix see `numpy.linalg.matrix_rank`.\n",
      "  VisibleDeprecationWarning)\n"
     ]
    }
   ],
   "source": [
    "met.initialize(cfg_file_met);\n",
    "\n",
    "print met.get_values('atmosphere_water__snowfall_leq-volume_flux')\n",
    "print met.get_values('water-liquid__mass-per-volume_density')\n",
    "print met.get_values('atmosphere_bottom_air__temperature')\n",
    "\n",
    "sno.P_snow=met.get_values('atmosphere_water__snowfall_leq-volume_flux')\n",
    "sno.rho_H2O=met.get_values('water-liquid__mass-per-volume_density')\n",
    "sno.T_air=met.get_values('atmosphere_bottom_air__temperature')\n",
    "\n",
    "sno.initialize(cfg_file_sno);\n",
    "\n",
    "#provide two components from met and snow\n",
    "print met.get_values('atmosphere_water__rainfall_volume_flux')\n",
    "print sno.get_values('snowpack__melt_volume_flux')\n",
    "# will not run without these\n",
    "infl.P_rain=met.get_values('atmosphere_water__rainfall_volume_flux')\n",
    "infl.SM=sno.get_values('snowpack__melt_volume_flux')\n",
    "infl.h_table=1\n",
    "# need these for update to work\n",
    "infl.elev=0.0\n",
    "infl.initialize(cfg_file_inf);"
   ]
  },
  {
   "cell_type": "code",
   "execution_count": 8,
   "metadata": {
    "collapsed": false
   },
   "outputs": [
    {
     "name": "stdout",
     "output_type": "stream",
     "text": [
      "20.0\n",
      "-5.0\n",
      " \n",
      "Evaporation component: Initializing...\n",
      "Imported netCDF4 version: 1.2.2\n"
     ]
    },
    {
     "data": {
      "text/plain": [
       "array(0.0)"
      ]
     },
     "execution_count": 8,
     "metadata": {},
     "output_type": "execute_result"
    }
   ],
   "source": [
    "# will not run without these\n",
    "print met.get_values('atmosphere_bottom_air__temperature')\n",
    "print met.get_values('land_surface__temperature')\n",
    "\n",
    "evap.Qn_SW=met.get_values('land_surface_net-shortwave-radiation__energy_flux')\n",
    "evap.Qn_LW=met.get_values('land_surface_net-longwave-radiation__energy_flux')\n",
    "evap.T_air=met.get_values('atmosphere_bottom_air__temperature')\n",
    "evap.T_surf=met.get_values('land_surface__temperature')\n",
    "evap.initialize(cfg_file_eva);\n",
    "evap.get_current_time()"
   ]
  },
  {
   "cell_type": "code",
   "execution_count": 9,
   "metadata": {
    "collapsed": false
   },
   "outputs": [
    {
     "name": "stdout",
     "output_type": "stream",
     "text": [
      "0.0 600.0\n",
      "0.0 36000.0\n",
      "0.0 600.0\n",
      "T air= 20.0\n",
      "P_rain= 0.0\n",
      "Q_sum= [[ 3214.75746689  3214.75746689  3214.75746689 ...,  3214.75746689\n",
      "   3214.75746689  3214.75746689]\n",
      " [ 3214.75746689  3214.75746689  3214.75746689 ...,  3214.75746689\n",
      "   3214.75746689  3214.75746689]\n",
      " [ 3214.75746689  3214.75746689  3214.75746689 ...,  3214.75746689\n",
      "   3214.75746689  3214.75746689]\n",
      " ..., \n",
      " [ 3214.75746689  3214.75746689  3214.75746689 ...,  3214.75746689\n",
      "   3214.75746689  3214.75746689]\n",
      " [ 3214.75746689  3214.75746689  3214.75746689 ...,  3214.75746689\n",
      "   3214.75746689  3214.75746689]\n",
      " [ 3214.75746689  3214.75746689  3214.75746689 ...,  3214.75746689\n",
      "   3214.75746689  3214.75746689]]\n",
      "snow depth= 0.492425\n",
      "vol_rg= 43.49565\n",
      "T air= 20.0\n",
      "P_rain= 0.0\n",
      "Q_sum= [[ 3213.96709736  3213.96709736  3213.96709736 ...,  3213.96709736\n",
      "   3213.96709736  3213.96709736]\n",
      " [ 3213.96709736  3213.96709736  3213.96709736 ...,  3213.96709736\n",
      "   3213.96709736  3213.96709736]\n",
      " [ 3213.96709736  3213.96709736  3213.96709736 ...,  3213.96709736\n",
      "   3213.96709736  3213.96709736]\n",
      " ..., \n",
      " [ 3213.96709736  3213.96709736  3213.96709736 ...,  3213.96709736\n",
      "   3213.96709736  3213.96709736]\n",
      " [ 3213.96709736  3213.96709736  3213.96709736 ...,  3213.96709736\n",
      "   3213.96709736  3213.96709736]\n",
      " [ 3213.96709736  3213.96709736  3213.96709736 ...,  3213.96709736\n",
      "   3213.96709736  3213.96709736]]\n",
      "snow depth= 0.48485\n",
      "vol_rg= 86.9913\n",
      "T air= 20.0\n",
      "P_rain= 0.0\n",
      "Q_sum= [[ 3213.17766346  3213.17766346  3213.17766346 ...,  3213.17766346\n",
      "   3213.17766346  3213.17766346]\n",
      " [ 3213.17766346  3213.17766346  3213.17766346 ...,  3213.17766346\n",
      "   3213.17766346  3213.17766346]\n",
      " [ 3213.17766346  3213.17766346  3213.17766346 ...,  3213.17766346\n",
      "   3213.17766346  3213.17766346]\n",
      " ..., \n",
      " [ 3213.17766346  3213.17766346  3213.17766346 ...,  3213.17766346\n",
      "   3213.17766346  3213.17766346]\n",
      " [ 3213.17766346  3213.17766346  3213.17766346 ...,  3213.17766346\n",
      "   3213.17766346  3213.17766346]\n",
      " [ 3213.17766346  3213.17766346  3213.17766346 ...,  3213.17766346\n",
      "   3213.17766346  3213.17766346]]\n",
      "snow depth= 0.477275\n",
      "vol_rg= 130.48695\n",
      "T air= 20.0\n",
      "P_rain= 0.0\n",
      "Q_sum= [[ 3212.3891633  3212.3891633  3212.3891633 ...,  3212.3891633\n",
      "   3212.3891633  3212.3891633]\n",
      " [ 3212.3891633  3212.3891633  3212.3891633 ...,  3212.3891633\n",
      "   3212.3891633  3212.3891633]\n",
      " [ 3212.3891633  3212.3891633  3212.3891633 ...,  3212.3891633\n",
      "   3212.3891633  3212.3891633]\n",
      " ..., \n",
      " [ 3212.3891633  3212.3891633  3212.3891633 ...,  3212.3891633\n",
      "   3212.3891633  3212.3891633]\n",
      " [ 3212.3891633  3212.3891633  3212.3891633 ...,  3212.3891633\n",
      "   3212.3891633  3212.3891633]\n",
      " [ 3212.3891633  3212.3891633  3212.3891633 ...,  3212.3891633\n",
      "   3212.3891633  3212.3891633]]\n",
      "snow depth= 0.4697\n",
      "vol_rg= 173.9826\n",
      "T air= 20.0\n",
      "P_rain= 0.0\n",
      "Q_sum= [[ 3211.601595  3211.601595  3211.601595 ...,  3211.601595  3211.601595\n",
      "   3211.601595]\n",
      " [ 3211.601595  3211.601595  3211.601595 ...,  3211.601595  3211.601595\n",
      "   3211.601595]\n",
      " [ 3211.601595  3211.601595  3211.601595 ...,  3211.601595  3211.601595\n",
      "   3211.601595]\n",
      " ..., \n",
      " [ 3211.601595  3211.601595  3211.601595 ...,  3211.601595  3211.601595\n",
      "   3211.601595]\n",
      " [ 3211.601595  3211.601595  3211.601595 ...,  3211.601595  3211.601595\n",
      "   3211.601595]\n",
      " [ 3211.601595  3211.601595  3211.601595 ...,  3211.601595  3211.601595\n",
      "   3211.601595]]\n",
      "snow depth= 0.462125\n",
      "vol_rg= 217.47825\n",
      "T air= 20.0\n",
      "P_rain= 0.0\n",
      "Q_sum= [[ 3210.81495668  3210.81495668  3210.81495668 ...,  3210.81495668\n",
      "   3210.81495668  3210.81495668]\n",
      " [ 3210.81495668  3210.81495668  3210.81495668 ...,  3210.81495668\n",
      "   3210.81495668  3210.81495668]\n",
      " [ 3210.81495668  3210.81495668  3210.81495668 ...,  3210.81495668\n",
      "   3210.81495668  3210.81495668]\n",
      " ..., \n",
      " [ 3210.81495668  3210.81495668  3210.81495668 ...,  3210.81495668\n",
      "   3210.81495668  3210.81495668]\n",
      " [ 3210.81495668  3210.81495668  3210.81495668 ...,  3210.81495668\n",
      "   3210.81495668  3210.81495668]\n",
      " [ 3210.81495668  3210.81495668  3210.81495668 ...,  3210.81495668\n",
      "   3210.81495668  3210.81495668]]\n",
      "snow depth= 0.45455\n",
      "vol_rg= 260.9739\n",
      "T air= 20.0\n",
      "P_rain= 0.0\n",
      "Q_sum= [[ 3210.02924646  3210.02924646  3210.02924646 ...,  3210.02924646\n",
      "   3210.02924646  3210.02924646]\n",
      " [ 3210.02924646  3210.02924646  3210.02924646 ...,  3210.02924646\n",
      "   3210.02924646  3210.02924646]\n",
      " [ 3210.02924646  3210.02924646  3210.02924646 ...,  3210.02924646\n",
      "   3210.02924646  3210.02924646]\n",
      " ..., \n",
      " [ 3210.02924646  3210.02924646  3210.02924646 ...,  3210.02924646\n",
      "   3210.02924646  3210.02924646]\n",
      " [ 3210.02924646  3210.02924646  3210.02924646 ...,  3210.02924646\n",
      "   3210.02924646  3210.02924646]\n",
      " [ 3210.02924646  3210.02924646  3210.02924646 ...,  3210.02924646\n",
      "   3210.02924646  3210.02924646]]\n",
      "snow depth= 0.446975\n",
      "vol_rg= 304.46955\n",
      "T air= 20.0\n",
      "P_rain= 0.0\n",
      "Q_sum= [[ 3209.24446247  3209.24446247  3209.24446247 ...,  3209.24446247\n",
      "   3209.24446247  3209.24446247]\n",
      " [ 3209.24446247  3209.24446247  3209.24446247 ...,  3209.24446247\n",
      "   3209.24446247  3209.24446247]\n",
      " [ 3209.24446247  3209.24446247  3209.24446247 ...,  3209.24446247\n",
      "   3209.24446247  3209.24446247]\n",
      " ..., \n",
      " [ 3209.24446247  3209.24446247  3209.24446247 ...,  3209.24446247\n",
      "   3209.24446247  3209.24446247]\n",
      " [ 3209.24446247  3209.24446247  3209.24446247 ...,  3209.24446247\n",
      "   3209.24446247  3209.24446247]\n",
      " [ 3209.24446247  3209.24446247  3209.24446247 ...,  3209.24446247\n",
      "   3209.24446247  3209.24446247]]\n",
      "snow depth= 0.4394\n",
      "vol_rg= 347.9652\n",
      "T air= 20.0\n",
      "P_rain= 0.0\n",
      "Q_sum= [[ 3208.46060286  3208.46060286  3208.46060286 ...,  3208.46060286\n",
      "   3208.46060286  3208.46060286]\n",
      " [ 3208.46060286  3208.46060286  3208.46060286 ...,  3208.46060286\n",
      "   3208.46060286  3208.46060286]\n",
      " [ 3208.46060286  3208.46060286  3208.46060286 ...,  3208.46060286\n",
      "   3208.46060286  3208.46060286]\n",
      " ..., \n",
      " [ 3208.46060286  3208.46060286  3208.46060286 ...,  3208.46060286\n",
      "   3208.46060286  3208.46060286]\n",
      " [ 3208.46060286  3208.46060286  3208.46060286 ...,  3208.46060286\n",
      "   3208.46060286  3208.46060286]\n",
      " [ 3208.46060286  3208.46060286  3208.46060286 ...,  3208.46060286\n",
      "   3208.46060286  3208.46060286]]\n",
      "snow depth= 0.431825\n",
      "vol_rg= 391.46085\n",
      "T air= 20.0\n",
      "P_rain= 0.0\n",
      "Q_sum= [[ 3207.67766576  3207.67766576  3207.67766576 ...,  3207.67766576\n",
      "   3207.67766576  3207.67766576]\n",
      " [ 3207.67766576  3207.67766576  3207.67766576 ...,  3207.67766576\n",
      "   3207.67766576  3207.67766576]\n",
      " [ 3207.67766576  3207.67766576  3207.67766576 ...,  3207.67766576\n",
      "   3207.67766576  3207.67766576]\n",
      " ..., \n",
      " [ 3207.67766576  3207.67766576  3207.67766576 ...,  3207.67766576\n",
      "   3207.67766576  3207.67766576]\n",
      " [ 3207.67766576  3207.67766576  3207.67766576 ...,  3207.67766576\n",
      "   3207.67766576  3207.67766576]\n",
      " [ 3207.67766576  3207.67766576  3207.67766576 ...,  3207.67766576\n",
      "   3207.67766576  3207.67766576]]\n",
      "snow depth= 0.42425\n",
      "vol_rg= 434.9565\n"
     ]
    },
    {
     "name": "stderr",
     "output_type": "stream",
     "text": [
      "topoflow/components/solar_funcs.py:740: FutureWarning: comparison to `None` will result in an elementwise object comparison in the future.\n",
      "  if (hour_num != None):\n"
     ]
    }
   ],
   "source": [
    "time = [met.get_current_time().copy()]\n",
    "# NOTE: EMELI does not have get_value\n",
    "Q_sum = [met.get_values('land_surface_net-total-energy__energy_flux').copy()]\n",
    "\n",
    "print met.get_current_time(), met.get_end_time()\n",
    "print sno.get_current_time(), sno.get_end_time()\n",
    "print infl.get_current_time(), infl.get_end_time()\n",
    "\n",
    "while met.get_current_time() < met.get_end_time():\n",
    "    met.h_snow=sno.get_values('snowpack__depth')\n",
    "    met.update()\n",
    "    \n",
    "    \n",
    "    time.append(met.get_current_time().copy())\n",
    "    sno.P_snow=met.get_values('atmosphere_water__snowfall_leq-volume_flux')\n",
    "    sno.rho_H2O=met.get_values('water-liquid__mass-per-volume_density')\n",
    "    sno.T_air=met.get_values('atmosphere_bottom_air__temperature')\n",
    "    print 'T air=',met.T_air\n",
    "    print 'P_rain=',met.P_rain\n",
    "    print 'Q_sum=',met.Q_sum\n",
    "    \n",
    "    sno.update()\n",
    "    time.append(sno.get_current_time().copy())\n",
    "    #met.h_snow=sno.get_values('snowpack__depth')\n",
    "    print 'snow depth=',met.h_snow\n",
    "    \n",
    "    infl.P_rain=met.get_values('atmosphere_water__rainfall_volume_flux')\n",
    "    infl.SM=sno.get_values('snowpack__melt_volume_flux')\n",
    "    \n",
    "    infl.update()\n",
    "    time.append(infl.get_current_time().copy())\n",
    "    print 'vol_rg=',infl.vol_Rg\n",
    "\n",
    "    evap.Qn_SW=met.get_values('land_surface_net-shortwave-radiation__energy_flux')\n",
    "    evap.Qn_LW=met.get_values('land_surface_net-longwave-radiation__energy_flux')\n",
    "    evap.T_air=met.get_values('atmosphere_bottom_air__temperature')\n",
    "    evap.T_surf=met.get_values('land_surface__temperature')\n",
    "    evap.update();\n",
    "    #Q_sum.append(met.get_values('land_surface_net-total-energy__energy_flux').copy() )\n",
    "    \n",
    "#print time, Q_sum"
   ]
  },
  {
   "cell_type": "code",
   "execution_count": 17,
   "metadata": {
    "collapsed": false
   },
   "outputs": [
    {
     "data": {
      "text/plain": [
       "((44, 29), ())"
      ]
     },
     "execution_count": 17,
     "metadata": {},
     "output_type": "execute_result"
    }
   ],
   "source": [
    "np.shape(met.Q_sum), np.shape(sno.T_air),"
   ]
  },
  {
   "cell_type": "code",
   "execution_count": null,
   "metadata": {
    "collapsed": true
   },
   "outputs": [],
   "source": [
    "met.Q_sum[:,0]"
   ]
  },
  {
   "cell_type": "code",
   "execution_count": 16,
   "metadata": {
    "collapsed": false
   },
   "outputs": [
    {
     "data": {
      "image/png": "[encoded data removed]",
      "text/plain": [
       "<matplotlib.figure.Figure at 0x109111950>"
      ]
     },
     "metadata": {},
     "output_type": "display_data"
    }
   ],
   "source": [
    "plt.plot(time,T_air,'b'); \n",
    "plt.xlabel('Time (s)')\n",
    "plt.ylabel('Snow melt')\n",
    "plt.title('Snow Melt rate vs. time')\n",
    "plt.grid(); plt.show()"
   ]
  }
 ],
 "metadata": {
  "kernelspec": {
   "display_name": "Python 2",
   "language": "python",
   "name": "python2"
  },
  "language_info": {
   "codemirror_mode": {
    "name": "ipython",
    "version": 2
   },
   "file_extension": ".py",
   "mimetype": "text/x-python",
   "name": "python",
   "nbconvert_exporter": "python",
   "pygments_lexer": "ipython2",
   "version": "2.7.11"
  }
 },
 "nbformat": 4,
 "nbformat_minor": 0
}
