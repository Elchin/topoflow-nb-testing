{
 "cells": [
  {
   "cell_type": "code",
   "execution_count": 1,
   "metadata": {
    "collapsed": false
   },
   "outputs": [
    {
     "name": "stdout",
     "output_type": "stream",
     "text": [
      "Importing TopoFlow packages:\n",
      "   topoflow.utils\n",
      "   topoflow.utils.tests\n",
      "   topoflow.components\n",
      "   topoflow.components.tests\n",
      "   topoflow.framework\n",
      "   topoflow.framework.tests\n",
      "   topoflow.gui (unfinished)\n",
      " \n",
      " \n",
      "Paths for this package:\n",
      "framework_dir = /Users/elja0262/Google Drive/active_projects/Topoflow_all/topoflow/topoflow/framework/\n",
      "parent_dir    = /Users/elja0262/Google Drive/active_projects/Topoflow_all/topoflow/topoflow/\n",
      "examples_dir  = /Users/elja0262/Google Drive/active_projects/Topoflow_all/topoflow/topoflow/examples/\n",
      "__file__      = topoflow/framework/emeli.pyc\n",
      "__name__      = topoflow.framework.emeli\n",
      " \n"
     ]
    }
   ],
   "source": [
    "%matplotlib inline\n",
    "import numpy as np\n",
    "from matplotlib import pyplot as plt\n",
    "from topoflow.components import evap_priestley_taylor"
   ]
  },
  {
   "cell_type": "code",
   "execution_count": 2,
   "metadata": {
    "collapsed": false
   },
   "outputs": [],
   "source": [
    "cfg_file='topoflow/examples/Treynor_Iowa/June_20_67_evap_priestley_taylor.cfg'\n",
    "evap=evap_priestley_taylor.evap_component()"
   ]
  },
  {
   "cell_type": "code",
   "execution_count": 3,
   "metadata": {
    "collapsed": false
   },
   "outputs": [
    {
     "name": "stdout",
     "output_type": "stream",
     "text": [
      " \n",
      "Evaporation component: Initializing...\n",
      "Imported netCDF4 version: 1.1.9\n"
     ]
    },
    {
     "name": "stderr",
     "output_type": "stream",
     "text": [
      "/Users/elja0262/anaconda/lib/python2.7/site-packages/numpy/core/fromnumeric.py:2507: VisibleDeprecationWarning: `rank` is deprecated; use the `ndim` attribute or function instead. To find the rank of a matrix see `numpy.linalg.matrix_rank`.\n",
      "  VisibleDeprecationWarning)\n"
     ]
    },
    {
     "data": {
      "text/plain": [
       "array(0.0)"
      ]
     },
     "execution_count": 3,
     "metadata": {},
     "output_type": "execute_result"
    }
   ],
   "source": [
    "# will not run without these\n",
    "evap.Qn_SW=3100\n",
    "evap.Qn_LW=1100\n",
    "evap.T_air=20\n",
    "evap.T_surf=10\n",
    "evap.initialize(cfg_file);\n",
    "evap.get_current_time()\n"
   ]
  },
  {
   "cell_type": "code",
   "execution_count": 4,
   "metadata": {
    "collapsed": false
   },
   "outputs": [
    {
     "name": "stdout",
     "output_type": "stream",
     "text": [
      "0.0 36000.0\n",
      "(11,) (11,) (11,) (11, 44, 29)\n"
     ]
    }
   ],
   "source": [
    "time = [evap.get_current_time().copy()]\n",
    "# NOTE: EMELI does not have get_value\n",
    "\n",
    "#Qc=[evap.Qc.copy()] #'W m-2' 'land_surface_soil__conduction_heat_flux'\n",
    "#NOTE: that the model calculates Qc only after update \n",
    "Qc=[0.0]\n",
    "vol_ET=[evap.vol_ET.copy()]  #'m3' 'land_surface_water__domain_time_integral_of_evaporation_volume_flux'\n",
    "ET=[evap.ET.copy()]  #'m s-1' 'land_surface_water__evaporation_volume_flux' \n",
    "\n",
    "\n",
    "print evap.get_current_time(), evap.get_end_time()\n",
    "while evap.get_current_time() < evap.get_end_time():\n",
    "    evap.update()\n",
    "    time.append(evap.get_current_time().copy())\n",
    "    #print 'Qc=',evap.Qc, 'W m-2'\n",
    "    #print 'vol_ET=',evap.vol_ET, 'm3'\n",
    "    #print 'ET=',evap.ET, 'm s-1'\n",
    "    \n",
    "    Qc.append(evap.Qc.copy()) \n",
    "    vol_ET.append(evap.vol_ET.copy()) \n",
    "    ET.append(evap.ET.copy())  \n",
    "\n",
    "print np.shape(time), np.shape(Qc), np.shape(vol_ET), np.shape(ET)"
   ]
  },
  {
   "cell_type": "code",
   "execution_count": 5,
   "metadata": {
    "collapsed": false
   },
   "outputs": [
    {
     "data": {
      "image/png": "[encoded data removed]",
      "text/plain": [
       "<matplotlib.figure.Figure at 0x108804a90>"
      ]
     },
     "metadata": {},
     "output_type": "display_data"
    }
   ],
   "source": [
    "plt.plot(time,Qc,'b',time,vol_ET,'r'); \n",
    "plt.xlabel('Time (s)')\n",
    "plt.ylabel('conduct heat [W m-2] and ET vol flux [m3]')\n",
    "plt.grid(); plt.show()"
   ]
  },
  {
   "cell_type": "code",
   "execution_count": 6,
   "metadata": {
    "collapsed": false
   },
   "outputs": [
    {
     "name": "stdout",
     "output_type": "stream",
     "text": [
      "[0.0, -90.0, -90.0, -90.0, -90.0, -90.0, -90.0, -90.0, -90.0, -90.0, -90.0]\n"
     ]
    }
   ],
   "source": [
    "print Qc"
   ]
  }
 ],
 "metadata": {
  "kernelspec": {
   "display_name": "Python 2",
   "language": "python",
   "name": "python2"
  },
  "language_info": {
   "codemirror_mode": {
    "name": "ipython",
    "version": 2
   },
   "file_extension": ".py",
   "mimetype": "text/x-python",
   "name": "python",
   "nbconvert_exporter": "python",
   "pygments_lexer": "ipython2",
   "version": "2.7.10"
  }
 },
 "nbformat": 4,
 "nbformat_minor": 0
}
