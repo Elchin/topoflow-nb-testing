{
 "cells": [
  {
   "cell_type": "code",
   "execution_count": 7,
   "metadata": {
    "collapsed": false
   },
   "outputs": [],
   "source": [
    "%matplotlib inline\n",
    "import numpy as np\n",
    "from matplotlib import pyplot as plt\n",
    "from topoflow.components import evap_priestley_taylor"
   ]
  },
  {
   "cell_type": "code",
   "execution_count": 8,
   "metadata": {
    "collapsed": false
   },
   "outputs": [],
   "source": [
    "cfg_file='topoflow/examples/Treynor_Iowa/June_20_67_evap_priestley_taylor.cfg'\n",
    "evap=evap_priestley_taylor.evap_component()"
   ]
  },
  {
   "cell_type": "code",
   "execution_count": 9,
   "metadata": {
    "collapsed": false
   },
   "outputs": [
    {
     "name": "stdout",
     "output_type": "stream",
     "text": [
      " \n",
      "Evaporation component: Initializing...\n",
      "Imported netCDF4 version: 1.1.9\n"
     ]
    }
   ],
   "source": [
    "# will not run without these\n",
    "evap.Qn_SW=310\n",
    "evap.Qn_LW=110\n",
    "evap.T_air=20\n",
    "evap.T_surf=10\n",
    "evap.initialize(cfg_file);"
   ]
  },
  {
   "cell_type": "code",
   "execution_count": 10,
   "metadata": {
    "collapsed": false
   },
   "outputs": [
    {
     "name": "stdout",
     "output_type": "stream",
     "text": [
      "0.0 36000.0\n",
      "3600.0 36000.0\n",
      "7200.0 36000.0\n",
      "10800.0 36000.0\n",
      "14400.0 36000.0\n",
      "18000.0 36000.0\n",
      "21600.0 36000.0\n",
      "25200.0 36000.0\n",
      "28800.0 36000.0\n",
      "32400.0 36000.0\n",
      "(11,) (11,) (11,) (11, 44, 29)\n"
     ]
    }
   ],
   "source": [
    "time = [evap.get_current_time().copy()]\n",
    "# NOTE: EMELI does not have get_value\n",
    "#Qc=[evap.Qc.copy()] #'W m-2' 'land_surface_soil__conduction_heat_flux'\n",
    "#NOTE: that the model calculates Qc only after update \n",
    "Qc=[0.0]\n",
    "vol_ET=[evap.vol_ET.copy()]  #'m3' 'land_surface_water__domain_time_integral_of_evaporation_volume_flux'\n",
    "ET=[evap.ET.copy()]  #'m s-1' 'land_surface_water__evaporation_volume_flux' \n",
    "\n",
    "while evap.get_current_time() < evap.get_end_time():\n",
    "    print evap.get_current_time(), evap.get_end_time()\n",
    "    evap.update()\n",
    "    time.append(evap.get_current_time().copy())\n",
    "   \n",
    "    Qc.append(evap.Qc.copy()) \n",
    "    vol_ET.append(evap.vol_ET.copy()) \n",
    "    ET.append(evap.ET.copy())  \n",
    "\n",
    "print np.shape(time), np.shape(Qc), np.shape(vol_ET), np.shape(ET)"
   ]
  },
  {
   "cell_type": "code",
   "execution_count": 11,
   "metadata": {
    "collapsed": false,
    "scrolled": true
   },
   "outputs": [
    {
     "data": {
      "image/png": "[encoded data removed]",
      "text/plain": [
       "<matplotlib.figure.Figure at 0x108845bd0>"
      ]
     },
     "metadata": {},
     "output_type": "display_data"
    }
   ],
   "source": [
    "plt.plot(time,Qc,'b',time,vol_ET,'r'); \n",
    "plt.xlabel('Time (s)')\n",
    "plt.ylabel('conduct heat [W m-2] and ET vol flux [m3]')\n",
    "plt.grid(); plt.show()"
   ]
  },
  {
   "cell_type": "code",
   "execution_count": null,
   "metadata": {
    "collapsed": true
   },
   "outputs": [],
   "source": []
  }
 ],
 "metadata": {
  "kernelspec": {
   "display_name": "Python 2",
   "language": "python",
   "name": "python2"
  },
  "language_info": {
   "codemirror_mode": {
    "name": "ipython",
    "version": 2
   },
   "file_extension": ".py",
   "mimetype": "text/x-python",
   "name": "python",
   "nbconvert_exporter": "python",
   "pygments_lexer": "ipython2",
   "version": "2.7.10"
  }
 },
 "nbformat": 4,
 "nbformat_minor": 0
}
